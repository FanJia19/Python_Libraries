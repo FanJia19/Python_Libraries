{
 "cells": [
  {
   "cell_type": "markdown",
   "metadata": {
    "deletable": false,
    "editable": false,
    "nbgrader": {
     "cell_type": "markdown",
     "checksum": "85689a09df434b4c9b5e904cf5671e6a",
     "grade": false,
     "grade_id": "cell-d0a0f7672b573c5e",
     "locked": true,
     "schema_version": 3,
     "solution": false,
     "task": false
    }
   },
   "source": [
    "<img src=\"images/logo-2020.png\" alt=\"frankfurt school hmi\" style=\"width: 160px;\"/>"
   ]
  },
  {
   "cell_type": "markdown",
   "metadata": {
    "deletable": false,
    "editable": false,
    "nbgrader": {
     "cell_type": "markdown",
     "checksum": "2b86e4691c6fcdd7fd65fb8ba7d4ed7e",
     "grade": false,
     "grade_id": "cell-6ba37e6789352bbe",
     "locked": true,
     "schema_version": 3,
     "solution": false,
     "task": false
    }
   },
   "source": [
    "## Tutorial on NumPy arrays\n",
    "Basic mathematical functions (e.g., addition, subtraction, multiplication, division, square root) on $x \\in \\mathbb{R}$ operate elementwise on arrays. Recall that element-wise operations are straightforward for vectors: for vectors $\\boldsymbol{a} = (a_1, a_2, \\ldots, a_n)$ and $\\boldsymbol{b} = (b_1, b_2, \\ldots, b_n)$, element-wise addition, $\\boldsymbol{a} + \\boldsymbol{b}$, is simply $a_i + b_i$ for $1 \\leq i \\leq n$. The same is true for other element-wise arithmetic operations.  Element-wise operations generalize to $m \\times n$ arrays. \n",
    "\n",
    "In Python, basic arithmetic operations are available both as operator overloads -- meaning for example that `+` will behave elementwise when the operands are arrays and as a normal binary operator when the operands are scalars-- or as specific methods that run in the numpy module. Below, you will see examples of each."
   ]
  },
  {
   "cell_type": "code",
   "execution_count": 1,
   "metadata": {},
   "outputs": [],
   "source": [
    "import numpy as np"
   ]
  },
  {
   "cell_type": "code",
   "execution_count": 2,
   "metadata": {},
   "outputs": [
    {
     "data": {
      "text/plain": [
       "array([1, 2, 3, 4])"
      ]
     },
     "execution_count": 2,
     "metadata": {},
     "output_type": "execute_result"
    }
   ],
   "source": [
    "# Create an array\n",
    "A = np.arange(1,5)\n",
    "A"
   ]
  },
  {
   "cell_type": "code",
   "execution_count": 3,
   "metadata": {},
   "outputs": [
    {
     "data": {
      "text/plain": [
       "(4,)"
      ]
     },
     "execution_count": 3,
     "metadata": {},
     "output_type": "execute_result"
    }
   ],
   "source": [
    "# inspect the shape of A shape\n",
    "A.shape"
   ]
  },
  {
   "cell_type": "markdown",
   "metadata": {},
   "source": [
    "\n",
    "## Question 1. \n",
    "What is the difference between an array whose shape is (4,) an an array whose shape is (4,1)?  \n",
    "\n",
    "[Answer](https://stackoverflow.com/questions/16995071/numpy-array-that-is-n-1-and-n). "
   ]
  },
  {
   "cell_type": "code",
   "execution_count": 4,
   "metadata": {},
   "outputs": [
    {
     "data": {
      "text/plain": [
       "array([[1, 2],\n",
       "       [3, 4]])"
      ]
     },
     "execution_count": 4,
     "metadata": {},
     "output_type": "execute_result"
    }
   ],
   "source": [
    "# reshape into a 2x2 matrix \n",
    "A = A.reshape(2,2)\n",
    "A"
   ]
  },
  {
   "cell_type": "code",
   "execution_count": 5,
   "metadata": {},
   "outputs": [
    {
     "data": {
      "text/plain": [
       "(2, 2)"
      ]
     },
     "execution_count": 5,
     "metadata": {},
     "output_type": "execute_result"
    }
   ],
   "source": [
    "A.shape"
   ]
  },
  {
   "cell_type": "code",
   "execution_count": 6,
   "metadata": {},
   "outputs": [],
   "source": [
    "# create another array B\n",
    "B = np.array([[7,8],[9,10]])"
   ]
  },
  {
   "cell_type": "markdown",
   "metadata": {},
   "source": [
    "### Basic operations"
   ]
  },
  {
   "cell_type": "code",
   "execution_count": 7,
   "metadata": {},
   "outputs": [
    {
     "name": "stdout",
     "output_type": "stream",
     "text": [
      "Matrix A is:\n",
      " [[1 2]\n",
      " [3 4]] \n",
      "\n",
      "Matrix B is:\n",
      " [[ 7  8]\n",
      " [ 9 10]] \n",
      "\n",
      "The elementwise addition of A and B is:\n",
      " [[ 8 10]\n",
      " [12 14]] \n",
      "\n",
      "The elementwise addition of A and B is:\n",
      " [[ 8 10]\n",
      " [12 14]]\n"
     ]
    }
   ],
   "source": [
    "# Elementwise addition; both the operator overload of + and the np.add function return the same array\n",
    "# [[  8.  10.]\n",
    "#  [ 12.  14.]]\n",
    "print(\"Matrix A is:\\n\", A, \"\\n\")\n",
    "print(\"Matrix B is:\\n\", B, \"\\n\")\n",
    "print(\"The elementwise addition of A and B is:\\n\", np.add(A,B),\"\\n\")\n",
    "print(\"The elementwise addition of A and B is:\\n\", (A+B))"
   ]
  },
  {
   "cell_type": "code",
   "execution_count": 9,
   "metadata": {},
   "outputs": [
    {
     "name": "stdout",
     "output_type": "stream",
     "text": [
      "[[ 8 10]\n",
      " [12 14]]\n"
     ]
    }
   ],
   "source": [
    "# np.add method\n",
    "print(np.add(A,B))"
   ]
  },
  {
   "cell_type": "code",
   "execution_count": 10,
   "metadata": {},
   "outputs": [
    {
     "name": "stdout",
     "output_type": "stream",
     "text": [
      "[[-6 -6]\n",
      " [-6 -6]]\n"
     ]
    }
   ],
   "source": [
    "# Elementwise subtraction; both the operator overload of - and the np.subtract function return the same array\n",
    "# [[-6. -6.]\n",
    "#  [-6. -6.]]\n",
    "print(A-B)"
   ]
  },
  {
   "cell_type": "code",
   "execution_count": 11,
   "metadata": {},
   "outputs": [
    {
     "name": "stdout",
     "output_type": "stream",
     "text": [
      "[[-6 -6]\n",
      " [-6 -6]]\n"
     ]
    }
   ],
   "source": [
    "# np.subtract method\n",
    "print(np.subtract(A,B))"
   ]
  },
  {
   "cell_type": "code",
   "execution_count": 12,
   "metadata": {},
   "outputs": [
    {
     "name": "stdout",
     "output_type": "stream",
     "text": [
      "[[ 7 16]\n",
      " [27 40]]\n"
     ]
    }
   ],
   "source": [
    "# Elementwise product; both the operator overload of * and the np.multiply function return the same array\n",
    "# [[  7.  16.]\n",
    "#  [ 27.  40.]]\n",
    "print(A*B)"
   ]
  },
  {
   "cell_type": "code",
   "execution_count": 13,
   "metadata": {},
   "outputs": [
    {
     "name": "stdout",
     "output_type": "stream",
     "text": [
      "[[ 7 16]\n",
      " [27 40]]\n"
     ]
    }
   ],
   "source": [
    "# np.multiply method\n",
    "print(np.multiply(A, B))"
   ]
  },
  {
   "cell_type": "code",
   "execution_count": 14,
   "metadata": {},
   "outputs": [
    {
     "name": "stdout",
     "output_type": "stream",
     "text": [
      "[[0.14285714 0.25      ]\n",
      " [0.33333333 0.4       ]]\n"
     ]
    }
   ],
   "source": [
    "# Elementwise division; both the operator overload of / and \n",
    "# the np.divide function return the same array\n",
    "# [[ 0.14285714  0.25      ]\n",
    "#  [ 0.33333333  0.4       ]]\n",
    "print(A / B)"
   ]
  },
  {
   "cell_type": "code",
   "execution_count": 15,
   "metadata": {},
   "outputs": [
    {
     "name": "stdout",
     "output_type": "stream",
     "text": [
      "[[0.14285714 0.25      ]\n",
      " [0.33333333 0.4       ]]\n"
     ]
    }
   ],
   "source": [
    "# np.divide method\n",
    "print(np.divide(A,B))"
   ]
  },
  {
   "cell_type": "code",
   "execution_count": 16,
   "metadata": {},
   "outputs": [
    {
     "name": "stdout",
     "output_type": "stream",
     "text": [
      "[[2.64575131 2.82842712]\n",
      " [3.         3.16227766]]\n"
     ]
    }
   ],
   "source": [
    "# Elementwise square root function applied to B returns the array\n",
    "# [[ 2.64575131  2.82842712]\n",
    "#  [ 3.          3.16227766]]\n",
    "print(np.sqrt(B))"
   ]
  },
  {
   "cell_type": "markdown",
   "metadata": {},
   "source": [
    "## Matrix multiplication with np.dot\n",
    "If you are unfamiliar with matrix multiplication, I recommend you watch this short [Khan Academy video series](https://www.khanacademy.org/math/precalculus/precalc-matrices/multiplying-matrices-by-matrices/v/matrix-multiplication-intro).\n",
    "To compute inner products of vectors, multiply a vector by a matrix, and to multiply matricies, `np.dot` may be used either as a function or an instance method. To see how each operation works, in both function and instance-method formats, let's first instantiate two vectors (i.e., rank one arrays).\n",
    "\n",
    "<div class=\"alert alert-info\"><b>Tip</b>:\n",
    "Tip: We are following a convention from mathematics of using lowercase letters to refer to vectors and uppercase letters to refer to matrices. In Python both are arrays, so in principle we could use any variable we like. The convention nevertheless is important for people to understand code and communicate with one another.\n",
    "Since you may find it useful to consult a linear algebra textbook to understand how, exactly, these computations are carried out, we are following mathematical convention.\n",
    "\n",
    "In programming assignments, where different types of variables are in use, we may use a longer name that includes a description of the variable's type, such as data_list or data_array.\n",
    "</div>\n",
    "\n"
   ]
  },
  {
   "cell_type": "code",
   "execution_count": 17,
   "metadata": {},
   "outputs": [
    {
     "name": "stdout",
     "output_type": "stream",
     "text": [
      "The variable c stores the rank-one array [11 12]\n",
      "The variable d stores the rank-one array [21 22]\n"
     ]
    }
   ],
   "source": [
    "# create two vectors\n",
    "c = np.array([11,12])\n",
    "d = np.array([21, 22])\n",
    "print(\"The variable c stores the rank-one array\", c)\n",
    "print(\"The variable d stores the rank-one array\", d)"
   ]
  },
  {
   "cell_type": "code",
   "execution_count": 18,
   "metadata": {},
   "outputs": [
    {
     "name": "stdout",
     "output_type": "stream",
     "text": [
      "495\n"
     ]
    }
   ],
   "source": [
    "# Inner product of vectors using np.dot as a function\n",
    "# np.dot(c,d) yields 495\n",
    "print(np.dot(c,d))"
   ]
  },
  {
   "cell_type": "code",
   "execution_count": 19,
   "metadata": {},
   "outputs": [
    {
     "name": "stdout",
     "output_type": "stream",
     "text": [
      "495\n"
     ]
    }
   ],
   "source": [
    "# The instance method v.dot(w) also yields 495\n",
    "print(c.dot(d))"
   ]
  },
  {
   "cell_type": "code",
   "execution_count": 20,
   "metadata": {},
   "outputs": [
    {
     "name": "stdout",
     "output_type": "stream",
     "text": [
      "[35 81]\n"
     ]
    }
   ],
   "source": [
    "# Matrix by vector product using np.dot as a function\n",
    "# np.dot(A,c) yields the rank 1 array [35., 81.]\n",
    "print(np.dot(A,c))"
   ]
  },
  {
   "cell_type": "code",
   "execution_count": 21,
   "metadata": {},
   "outputs": [
    {
     "name": "stdout",
     "output_type": "stream",
     "text": [
      "[35 81]\n"
     ]
    }
   ],
   "source": [
    "# The instance method A.dot(c) also yields the rank 1 array [35., 81.]\n",
    "print(A.dot(c))"
   ]
  },
  {
   "cell_type": "code",
   "execution_count": 22,
   "metadata": {},
   "outputs": [
    {
     "name": "stdout",
     "output_type": "stream",
     "text": [
      "The matrix product of A and B is: \n",
      " [[25 28]\n",
      " [57 64]]\n"
     ]
    }
   ],
   "source": [
    "# Matrix by matrix product.  \n",
    "# np.dot(A,B) yields the rank 2 array\n",
    "# [[ 25.,  28.],\n",
    "#   [ 57.,  64.]]\n",
    "print(\"The matrix product of A and B is: \\n\", np.dot(A,B))"
   ]
  },
  {
   "cell_type": "code",
   "execution_count": 23,
   "metadata": {},
   "outputs": [
    {
     "name": "stdout",
     "output_type": "stream",
     "text": [
      "[[25 28]\n",
      " [57 64]]\n"
     ]
    }
   ],
   "source": [
    "# The instance method A.dot(B) also yields the same rank 2 array\n",
    "print(A.dot(B))"
   ]
  },
  {
   "cell_type": "markdown",
   "metadata": {},
   "source": [
    "Alternatively, the operator `@` can be used (since Python version 3.5) to perform matrix by matrix multiplication.  Let's check the version of python we are using."
   ]
  },
  {
   "cell_type": "code",
   "execution_count": 24,
   "metadata": {},
   "outputs": [
    {
     "name": "stdout",
     "output_type": "stream",
     "text": [
      "3.6.12\n"
     ]
    }
   ],
   "source": [
    "from platform import python_version\n",
    "print(python_version())"
   ]
  },
  {
   "cell_type": "code",
   "execution_count": 25,
   "metadata": {},
   "outputs": [
    {
     "name": "stdout",
     "output_type": "stream",
     "text": [
      "Entering A @ B yields: \n",
      " [[25 28]\n",
      " [57 64]]\n"
     ]
    }
   ],
   "source": [
    "# The @ operator \n",
    "print(\"Entering A @ B yields: \\n\", A @ B)"
   ]
  },
  {
   "cell_type": "markdown",
   "metadata": {},
   "source": [
    "\n",
    "<div class=\"alert alert-warning\">\n",
    "<b>Caution</b>: np.dot is not commutative, just as matrix multiplication is not commutative. In other words, changing the order of operands in np.dot generally yields different results. \n",
    "</div>\n",
    "If you are uncertain why this is so, I strongly recommend for you to view the introduction to matrix multiplication video from the Khan Academy [here](https://www.khanacademy.org/math/precalculus/precalc-matrices/multiplying-matrices-by-matrices/v/matrix-multiplication-intro)."
   ]
  },
  {
   "cell_type": "markdown",
   "metadata": {},
   "source": [
    "Run the next cell to confirm that `np.dot(A,B)` $\\neq$ `np.dot(B,A)`."
   ]
  },
  {
   "cell_type": "code",
   "execution_count": 26,
   "metadata": {},
   "outputs": [
    {
     "name": "stdout",
     "output_type": "stream",
     "text": [
      "[[31 46]\n",
      " [39 58]]\n"
     ]
    }
   ],
   "source": [
    "# np.dot is not a commutative operation.\n",
    "# for example, np.dot(B,A) yields the rank 2 array\n",
    "# [[ 31.,  46.],\n",
    "#  [ 39.,  58.]]\n",
    "print(np.dot(B,A))"
   ]
  },
  {
   "cell_type": "markdown",
   "metadata": {},
   "source": [
    "## Broadcasting\n",
    "Array arithmetic bumps up against an important limitation.  These operations are performed <b>element-wise</b>, meaning that the operation `c + d` is performed by adding `11` from `c` to `21` from `d`, and writing the result `32` to the first element of a one-dimensional array of length 2, and adding `12` from `c` to `22` from `d` and storing the value `34` to the second element of this array: Consider again the arrays `c` and `d`:"
   ]
  },
  {
   "cell_type": "code",
   "execution_count": 27,
   "metadata": {},
   "outputs": [
    {
     "data": {
      "text/plain": [
       "array([32, 34])"
      ]
     },
     "execution_count": 27,
     "metadata": {},
     "output_type": "execute_result"
    }
   ],
   "source": [
    "c + d"
   ]
  },
  {
   "cell_type": "markdown",
   "metadata": {},
   "source": [
    "## Question 2. \n",
    "What would you expect to happen if `c` and `d` were different sizes? \n",
    "\n",
    "A reasonable answer would be to suppose that the operation would fail and return an error, since not every element in one array would have a corresponding element in the other to execute the element-wise operation.  However, there is a built-in workaround in Python to perform arithmetic on <i>some </i> arrays of differents sizes.  This is a great feature, but can be a source of confusion if you do not understand how this workaround operates.   \n",
    "\n",
    "Array [broadcasting](https://numpy.org/devdocs/user/theory.broadcasting.html) refers to a NumPy method for performing arithmetical operations on arrays of different shapes.  Informally, and subject to some constraints, when arrays are mismatched in shape, the smaller array is replicated or \"<b>broadcast</b>\" across the larger array so that they have compatible shapes to perform the arithmetical operation.\n",
    "\n",
    "For example, suppose you wished to multiply a 1-dimensional array with 3 values, `a`, by a scalar, `b`.\n"
   ]
  },
  {
   "cell_type": "code",
   "execution_count": 28,
   "metadata": {},
   "outputs": [
    {
     "data": {
      "text/plain": [
       "(3,)"
      ]
     },
     "execution_count": 28,
     "metadata": {},
     "output_type": "execute_result"
    }
   ],
   "source": [
    "# 3x1 array\n",
    "a = np.array([11,12, 13])\n",
    "\n",
    "# inspect the shape of a\n",
    "a.shape"
   ]
  },
  {
   "cell_type": "code",
   "execution_count": 29,
   "metadata": {},
   "outputs": [],
   "source": [
    "# scalar\n",
    "b = 2"
   ]
  },
  {
   "cell_type": "markdown",
   "metadata": {},
   "source": [
    "The array `a` and the scalar `b` clearly do not have the same dimension.  (In fact, in this case, they aren't even the same data type.)  Without a trick like broadcasting, we would expect an element-wise operation like array-multiplication result in an error:\n",
    "\n",
    "<img src=\"images/broadcasting_1a.png\" alt=\"broadcasting_example\" style=\"width: 380px;\"/>\n",
    "\n",
    "Broadcasting <b>stretches</b> `b` into an array of the \"right\" dimension for the multiplication to work. We will come back to explain what the \"right\" dimension amounts to, and the conditions necessary for broadcasting to work.\n",
    "\n",
    "\n",
    "<img src=\"images/broadcasting_1b.png\" alt=\"broadcasting_example\" style=\"width: 450px;\"/>\n",
    "\n",
    "And we see this result, below.\n"
   ]
  },
  {
   "cell_type": "code",
   "execution_count": 30,
   "metadata": {},
   "outputs": [
    {
     "data": {
      "text/plain": [
       "array([22, 24, 26])"
      ]
     },
     "execution_count": 30,
     "metadata": {},
     "output_type": "execute_result"
    }
   ],
   "source": [
    "# a * b \n",
    "# note that b is broadcasted automatically\n",
    "a * b"
   ]
  },
  {
   "cell_type": "markdown",
   "metadata": {},
   "source": [
    "Since broadcasting is built into NumPy, it can be confusing when broadcasting errors appear.  Fortunately, the <b>General Rules for Broadcasting</b> two NumPy arrays are simple. After comparing the shape of the two arrays element-wise, two dimensions are compatible when either:\n",
    "\n",
    " - they are equal, or\n",
    " - one of the two dimensions is 1.\n",
    " \n",
    "If these conditions are not met, then the `ValueError: opperands could not be broadcast together` exception is raised, which indicates that the size of the arrays have incompatible shapes.\n",
    "\n",
    "Here is another broadcasting example involving a 2-dimensional array, `X`, and a 1-dimensional array, `y`.  "
   ]
  },
  {
   "cell_type": "code",
   "execution_count": 31,
   "metadata": {},
   "outputs": [
    {
     "data": {
      "text/plain": [
       "(4, 3)"
      ]
     },
     "execution_count": 31,
     "metadata": {},
     "output_type": "execute_result"
    }
   ],
   "source": [
    "# 4x3 array\n",
    "X = np.array([[1,2,3],[11, 12, 13], [21, 22, 23], [31, 32, 33]])\n",
    "\n",
    "# inspect the shape of X\n",
    "X.shape"
   ]
  },
  {
   "cell_type": "code",
   "execution_count": 32,
   "metadata": {},
   "outputs": [
    {
     "data": {
      "text/plain": [
       "(3,)"
      ]
     },
     "execution_count": 32,
     "metadata": {},
     "output_type": "execute_result"
    }
   ],
   "source": [
    "# 3 x 1 array\n",
    "y = np.array([0,1,2])\n",
    "\n",
    "# inspect the shape of y\n",
    "y.shape"
   ]
  },
  {
   "cell_type": "code",
   "execution_count": 33,
   "metadata": {},
   "outputs": [
    {
     "data": {
      "text/plain": [
       "array([[ 0,  2,  6],\n",
       "       [ 0, 12, 26],\n",
       "       [ 0, 22, 46],\n",
       "       [ 0, 32, 66]])"
      ]
     },
     "execution_count": 33,
     "metadata": {},
     "output_type": "execute_result"
    }
   ],
   "source": [
    "X*y"
   ]
  },
  {
   "cell_type": "markdown",
   "metadata": {},
   "source": [
    "To execute `X*y`, the 3x1 array `y` is stretched to a 4x3 array: \n",
    "\n",
    "<img src=\"images/broadcasting_2a.png\" alt=\"broadcasting_example\" style=\"width: 450px;\"/>\n",
    "\n",
    "In general, a 2-dimensional array multiplied by a 1-dimensional array is successfully broadcasted if the number of 1-dimensional array elements matches the number of 2-dimensional columns.  \n",
    "\n",
    "Two illustrate what happens when the number of 1d elements does not equal the number of 2d columns, consider multiplying the 4x3 array `X` by a 4x1 array `z`."
   ]
  },
  {
   "cell_type": "code",
   "execution_count": 34,
   "metadata": {},
   "outputs": [
    {
     "data": {
      "text/plain": [
       "(4,)"
      ]
     },
     "execution_count": 34,
     "metadata": {},
     "output_type": "execute_result"
    }
   ],
   "source": [
    "# 4 x 1 array\n",
    "z = np.array([0,1,2,3])\n",
    "\n",
    "# inspect the shape of y\n",
    "z.shape"
   ]
  },
  {
   "cell_type": "code",
   "execution_count": 35,
   "metadata": {},
   "outputs": [
    {
     "ename": "ValueError",
     "evalue": "operands could not be broadcast together with shapes (4,3) (4,) ",
     "output_type": "error",
     "traceback": [
      "\u001b[0;31m\u001b[0m",
      "\u001b[0;31mValueError\u001b[0mTraceback (most recent call last)",
      "\u001b[0;32m<ipython-input-35-7ca9cba02ed4>\u001b[0m in \u001b[0;36m<module>\u001b[0;34m\u001b[0m\n\u001b[1;32m      1\u001b[0m \u001b[0;31m# mismatch in dimension, returns a ValueError\u001b[0m\u001b[0;34m\u001b[0m\u001b[0;34m\u001b[0m\u001b[0;34m\u001b[0m\u001b[0m\n\u001b[0;32m----> 2\u001b[0;31m \u001b[0mX\u001b[0m \u001b[0;34m*\u001b[0m \u001b[0mz\u001b[0m\u001b[0;34m\u001b[0m\u001b[0;34m\u001b[0m\u001b[0m\n\u001b[0m",
      "\u001b[0;31mValueError\u001b[0m: operands could not be broadcast together with shapes (4,3) (4,) "
     ]
    }
   ],
   "source": [
    "# mismatch in dimension, returns a ValueError\n",
    "X * z"
   ]
  },
  {
   "cell_type": "markdown",
   "metadata": {},
   "source": [
    "We may visualize this error as follows:\n",
    "<img src=\"images/broadcasting_3.png\" alt=\"broadcasting_example\" style=\"width: 450px;\"/>\n",
    "\n"
   ]
  },
  {
   "cell_type": "markdown",
   "metadata": {},
   "source": [
    "## Example 1\n",
    "Let's consider the column vectors $c$ and $d$. Observe that\n",
    "\n",
    "$$c \\cdot d \\ = \\ \\sum_{i=1}^{n} c_i d_i \\ = \\ c^{T}d \\ = \\ 495\\\\ $$\n",
    "\n",
    "\n",
    "where $n$ is the length of the vectors $c$ and $d$ and $c^Td$ is $c$ transpose multiplied by $d$. \n",
    "\n",
    "In the present case $n = 2$. But, to make this a stand alone example (in case you haven't run the code above), we have\n",
    "\n",
    "~~~python \n",
    "c = np.array([11, 12])\n",
    "d = np.array([21, 22])\n",
    "~~~\n",
    "\n",
    "One way to compute $c \\cdot d$ is with a for loop, like so:\n",
    "\n",
    "~~~python\n",
    "ans = 0\n",
    "for c,d in zip(c,d):\n",
    "    ans += c*d\n",
    "ans\n",
    "~~~\n",
    "For this course, however, you <b>should not</b> use for loops but instead <b>vectorize</b> your code whenever possible. For loops are computationally expensive and do no scale well to large, multi-feature data sets. This is not a trivial point: vectorization can make the difference between solving a problem and not solving it.  It is the primary reason you studied linear algebra in your first term.\n",
    "\n",
    "Note that in Python, \n",
    "\n",
    "~~~python\n",
    "c * d\n",
    "~~~\n",
    "returns an np.array rather than the scalar value 495.  (Try it, if you don't see why.)  However, we could write\n",
    "\n",
    "~~~python\n",
    "np.sum(a*b)\n",
    "~~~\n",
    "which sums the elements of `array([321,264])` to return the scalar 495.  The `np.sum` function is a Python <i>instance method</i>, so an alternative way to do this is \n",
    "\n",
    "~~~python\n",
    "(c*d).sum()\n",
    "~~~\n",
    "\n",
    "Although these techniques are useful, particularly in the early stages of thinking through how to implement a solution and using methods and functions that closely align to your reasoning, a more convenient way to compute $c \\cdot d$  from a coding perspective is\n",
    "\n",
    "~~~python\n",
    "np.dot(c,d)\n",
    "~~~\n",
    "\n",
    "The function `np.dot()` is also an instance method, so an alternative way to do this is\n",
    "\n",
    "~~~python\n",
    "(c).dot(d)\n",
    "~~~\n",
    "\n",
    "## Question 3.\n",
    "\n",
    "Is `(d).dot(c)` equivalent to `(c).dot(d)`? Check!\n"
   ]
  },
  {
   "cell_type": "code",
   "execution_count": 37,
   "metadata": {},
   "outputs": [
    {
     "data": {
      "text/plain": [
       "495"
      ]
     },
     "execution_count": 37,
     "metadata": {},
     "output_type": "execute_result"
    }
   ],
   "source": [
    "# Question 3\n",
    "c.dot(d)"
   ]
  },
  {
   "cell_type": "markdown",
   "metadata": {},
   "source": [
    "## Example 2 (advanced)\n",
    "An alternative way to compute $c \\cdot d$, when both $c$ and $d$ are <b>normed vectors</b>, is\n",
    "\n",
    "$$ c \\cdot d = \\Vert c \\Vert \\Vert d \\Vert \\cos \\theta_{cd} $$\n",
    "\n",
    "which is the <i>magnitude</i> of $c$, written $\\Vert c \\Vert$, times the <i>magnitude</i> of $d$, times the cosine of the angle $\\theta$ between $c$ and $d$.  Often the angle is unknown, so this expression is rearranged to facilitate finding $\\theta$ by solving first for $\\cos \\theta$:\n",
    "\n",
    "$$ \\cos \\theta_{cd} = \\frac{c^Td}{\\Vert c \\Vert \\Vert d \\Vert} $$\n",
    "\n",
    "The magnitude of a vector is its length with respect to a norm but not every vector is a normed vector. The <i>Euclidean norm</i> is the most common norm, but not the only one. A Euclidean vector of length $n$ picks a single point in $n$-dimensional Euclidean space. For example, the vector $c$, evaluated with respect to the Euclidean norm, would determine the point (11, 12) on the Euclidean plane $\\mathbb{R}^2$.\n",
    "\n",
    "Let's suppose $\\Vert \\cdot \\Vert$ is the Euclidean norm, which is written as $\\Vert \\cdot \\Vert_2$ and also called the $L^2$-norm.  The <b>Euclidean norm</b> of a vector $\\boldsymbol{v} \\in \\mathbb{R}^n$ is\n",
    "\n",
    "$$  \\Vert \\boldsymbol{v} \\Vert_2 = \\sqrt{v^2_1 + v^2_2 + \\cdots + v^2_n} $$\n",
    "\n",
    "Equivalently, the Euclidean norm of $\\boldsymbol{v}$ may be expressed as the square root of the inner produce of $\\boldsymbol{v}$ and itself:\n",
    "\n",
    "$$ \\Vert \\boldsymbol{v} \\Vert_2 = \\sqrt{\\boldsymbol{v}^T\\boldsymbol{v}} $$\n",
    "\n",
    "#### How to compute an answer:\n",
    "\n",
    "As part of the Python linear algebra module, we can compute the Euclidean length of $\\boldsymbol{v}$ by using\n",
    "\n",
    "~~~python\n",
    "v_mag = np.linalg.norm(v)\n",
    "~~~\n",
    "Then, we may calculate the cosine of the angle $\\theta$ between $c$ and $d$ by\n",
    "\n",
    "~~~python\n",
    "cos_theta = np.dot(c,d) / (np.linalg.norm(c) * np.linalg.norm(d))\n",
    "~~~\n",
    "\n",
    "The angle $\\theta$ (in gradians) then is calculated by\n",
    "\n",
    "~~~python\n",
    "angle_theta = np.arccos(cos_theta)\n",
    "~~~\n",
    "\n",
    "We may calculate $c \\cdot d$, of course, by \n",
    "\n",
    "~~~python\n",
    "np.linalg.norm(c) * np.linalg.norm(d) * cos_theta\n",
    "~~~"
   ]
  },
  {
   "cell_type": "markdown",
   "metadata": {},
   "source": [
    "For more information about numpy mathematical operations, visit this [SciPy.org](https://docs.scipy.org/doc/numpy/reference/routines.math.html) reference page."
   ]
  },
  {
   "cell_type": "markdown",
   "metadata": {
    "deletable": false,
    "editable": false,
    "nbgrader": {
     "cell_type": "markdown",
     "checksum": "470c0e0fde1ae538ef26904e76bf8613",
     "grade": false,
     "grade_id": "cell-8207e9cc70cfab28",
     "locked": true,
     "schema_version": 3,
     "solution": false,
     "task": false
    }
   },
   "source": [
    "---\n",
    "<i> This is an ungraded tutorial.</i>"
   ]
  }
 ],
 "metadata": {
  "kernelspec": {
   "display_name": "Python 3",
   "language": "python",
   "name": "python3"
  },
  "language_info": {
   "codemirror_mode": {
    "name": "ipython",
    "version": 3
   },
   "file_extension": ".py",
   "mimetype": "text/x-python",
   "name": "python",
   "nbconvert_exporter": "python",
   "pygments_lexer": "ipython3",
   "version": "3.6.12"
  }
 },
 "nbformat": 4,
 "nbformat_minor": 2
}
