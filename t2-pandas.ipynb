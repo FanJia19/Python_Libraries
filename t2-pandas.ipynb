{
 "cells": [
  {
   "cell_type": "markdown",
   "metadata": {},
   "source": [
    "<img src=\"images/logo-2020.png\" alt=\"frankfurt school hmi\" style=\"width: 160px;\"/>"
   ]
  },
  {
   "cell_type": "markdown",
   "metadata": {},
   "source": [
    "# A brief introduction to pandas"
   ]
  },
  {
   "cell_type": "markdown",
   "metadata": {},
   "source": [
    "[pandas](https://pandas.pydata.org/) is a Python package for working with labeled or relational data.  Specifically, pandas is ideally suited to work with\n",
    "\n",
    "- matrix data with row and column labels\n",
    "- ordered or unordered time-series data\n",
    "- tabular data\n",
    "\n",
    "pandas is designed to work intimately with [NumPy](https://numpy.org/devdocs/user/quickstart.html), so let's import both."
   ]
  },
  {
   "cell_type": "code",
   "execution_count": 1,
   "metadata": {},
   "outputs": [],
   "source": [
    "import pandas as pd\n",
    "import numpy as np"
   ]
  },
  {
   "cell_type": "markdown",
   "metadata": {},
   "source": [
    "# Series\n",
    "A [Series](https://pandas.pydata.org/pandas-docs/stable/reference/api/pandas.Series.html) is a single vector of data with an index that labels each element. The next line of code creates a pandas Series from the values `1493`, `1260`, `885`, and `650`. "
   ]
  },
  {
   "cell_type": "code",
   "execution_count": 2,
   "metadata": {},
   "outputs": [
    {
     "data": {
      "text/plain": [
       "0    1493\n",
       "1    1260\n",
       "2     885\n",
       "3     650\n",
       "dtype: int64"
      ]
     },
     "execution_count": 2,
     "metadata": {},
     "output_type": "execute_result"
    }
   ],
   "source": [
    "# example of a pandas Series\n",
    "counts = pd.Series([1493, 1260, 885, 650]) \n",
    "counts"
   ]
  },
  {
   "cell_type": "code",
   "execution_count": 3,
   "metadata": {},
   "outputs": [
    {
     "data": {
      "text/plain": [
       "pandas.core.series.Series"
      ]
     },
     "execution_count": 3,
     "metadata": {},
     "output_type": "execute_result"
    }
   ],
   "source": [
    "# inspect the data type of 'counts'\n",
    "type(counts)"
   ]
  },
  {
   "cell_type": "markdown",
   "metadata": {},
   "source": [
    "## Shape \n",
    "You can use the `.shape` method to inspect the shape of a Series"
   ]
  },
  {
   "cell_type": "code",
   "execution_count": 4,
   "metadata": {},
   "outputs": [
    {
     "data": {
      "text/plain": [
       "(4,)"
      ]
     },
     "execution_count": 4,
     "metadata": {},
     "output_type": "execute_result"
    }
   ],
   "source": [
    "# inspect the shape of counts\n",
    "counts.shape"
   ]
  },
  {
   "cell_type": "markdown",
   "metadata": {},
   "source": [
    "The Series `counts` consists of two colums.  The second column stores the four numbers, `1493`, `1260`, `885`, and `650`, as <i>values</i>.  The first column is a default sequence of integers assigned as an <i>index</i>.  Specifically, the collection of values of the `Series` is a NumPy array while the index is a pandas `Index` object. \n",
    "\n",
    "### Index and Values\n",
    "\n",
    "We can return either the <b>values</b> or the <b>index</b> of a Series by the `.values` or `.index` methods, respectively."
   ]
  },
  {
   "cell_type": "code",
   "execution_count": 5,
   "metadata": {},
   "outputs": [
    {
     "data": {
      "text/plain": [
       "array([1493, 1260,  885,  650])"
      ]
     },
     "execution_count": 5,
     "metadata": {},
     "output_type": "execute_result"
    }
   ],
   "source": [
    "counts.values"
   ]
  },
  {
   "cell_type": "code",
   "execution_count": 6,
   "metadata": {},
   "outputs": [
    {
     "data": {
      "text/plain": [
       "RangeIndex(start=0, stop=4, step=1)"
      ]
     },
     "execution_count": 6,
     "metadata": {},
     "output_type": "execute_result"
    }
   ],
   "source": [
    "counts.index"
   ]
  },
  {
   "cell_type": "markdown",
   "metadata": {},
   "source": [
    "Note that the standard way that Python counts starts from 0 rather than from 1. (Why? The short answer is because zero is the smallest non-negative integer.) This is referred to as [zero-based indexing](https://en.wikipedia.org/wiki/Zero-based_numbering), and it is common in computer science.\n",
    "\n",
    "Instead of the default index, we can instead assign meaningful labels to the data.  In our example, the four values are the populations (measured in units of 1000 people) of the following cities:"
   ]
  },
  {
   "cell_type": "code",
   "execution_count": 12,
   "metadata": {},
   "outputs": [
    {
     "data": {
      "text/plain": [
       "San Antonio      1493\n",
       "Munich           1260\n",
       "San Francisco     885\n",
       "Frankfurt         650\n",
       "dtype: int64"
      ]
     },
     "execution_count": 12,
     "metadata": {},
     "output_type": "execute_result"
    }
   ],
   "source": [
    "pop = pd.Series([1493, 1260, 885, 650], \n",
    "                       index=['San Antonio', 'Munich', 'San Francisco', 'Frankfurt'])\n",
    "pop"
   ]
  },
  {
   "cell_type": "markdown",
   "metadata": {},
   "source": [
    "Now, the labels can be used to refer to their corresponding values."
   ]
  },
  {
   "cell_type": "code",
   "execution_count": 8,
   "metadata": {},
   "outputs": [
    {
     "data": {
      "text/plain": [
       "1260"
      ]
     },
     "execution_count": 8,
     "metadata": {},
     "output_type": "execute_result"
    }
   ],
   "source": [
    "pop['Munich']"
   ]
  },
  {
   "cell_type": "markdown",
   "metadata": {},
   "source": [
    "Note that positional indexing can still be used:"
   ]
  },
  {
   "cell_type": "code",
   "execution_count": 9,
   "metadata": {
    "scrolled": true
   },
   "outputs": [
    {
     "data": {
      "text/plain": [
       "1260"
      ]
     },
     "execution_count": 9,
     "metadata": {},
     "output_type": "execute_result"
    }
   ],
   "source": [
    "# note that '1' indexes the second element\n",
    "pop[1]"
   ]
  },
  {
   "cell_type": "markdown",
   "metadata": {},
   "source": [
    "We can give the array of values and indexes meaningful names, too.  In this case, the indexes are cities and the values populations"
   ]
  },
  {
   "cell_type": "code",
   "execution_count": 11,
   "metadata": {},
   "outputs": [
    {
     "data": {
      "text/plain": [
       "City\n",
       "San Antonio      1493\n",
       "Munich           1260\n",
       "San Francisco     885\n",
       "Frankfurt         650\n",
       "Name: Population, dtype: int64"
      ]
     },
     "execution_count": 11,
     "metadata": {},
     "output_type": "execute_result"
    }
   ],
   "source": [
    "pop.name = 'Population'\n",
    "pop.index.name = 'City'\n",
    "pop"
   ]
  },
  {
   "cell_type": "markdown",
   "metadata": {},
   "source": [
    "## NumPy math functions\n",
    "NumPy mathematical operations can be applied to `Series` without destroying the data structure."
   ]
  },
  {
   "cell_type": "code",
   "execution_count": 13,
   "metadata": {},
   "outputs": [
    {
     "data": {
      "text/plain": [
       "4288"
      ]
     },
     "execution_count": 13,
     "metadata": {},
     "output_type": "execute_result"
    }
   ],
   "source": [
    "# total population of all four cities\n",
    "np.sum(pop)"
   ]
  },
  {
   "cell_type": "code",
   "execution_count": 14,
   "metadata": {},
   "outputs": [
    {
     "data": {
      "text/plain": [
       "San Antonio      1493000\n",
       "Munich           1260000\n",
       "San Francisco     885000\n",
       "Frankfurt         650000\n",
       "dtype: int64"
      ]
     },
     "execution_count": 14,
     "metadata": {},
     "output_type": "execute_result"
    }
   ],
   "source": [
    "# rescale population\n",
    "np.multiply(pop,1000)"
   ]
  },
  {
   "cell_type": "code",
   "execution_count": 15,
   "metadata": {},
   "outputs": [
    {
     "data": {
      "text/plain": [
       "San Antonio      1493000\n",
       "Munich           1260000\n",
       "San Francisco     885000\n",
       "Frankfurt         650000\n",
       "dtype: int64"
      ]
     },
     "execution_count": 15,
     "metadata": {},
     "output_type": "execute_result"
    }
   ],
   "source": [
    "# arithmetical operations preserve data structure \n",
    "pop1 = np.multiply(pop,1000)\n",
    "pop1"
   ]
  },
  {
   "cell_type": "code",
   "execution_count": 16,
   "metadata": {},
   "outputs": [
    {
     "data": {
      "text/plain": [
       "San Antonio      1493\n",
       "Munich           1260\n",
       "San Francisco     885\n",
       "Frankfurt         650\n",
       "dtype: int64"
      ]
     },
     "execution_count": 16,
     "metadata": {},
     "output_type": "execute_result"
    }
   ],
   "source": [
    "# original data structure\n",
    "pop"
   ]
  },
  {
   "cell_type": "markdown",
   "metadata": {},
   "source": [
    "## Filter by values in a Series"
   ]
  },
  {
   "cell_type": "code",
   "execution_count": 17,
   "metadata": {},
   "outputs": [
    {
     "data": {
      "text/plain": [
       "San Francisco    885\n",
       "Frankfurt        650\n",
       "dtype: int64"
      ]
     },
     "execution_count": 17,
     "metadata": {},
     "output_type": "execute_result"
    }
   ],
   "source": [
    "# Cities with less than 1 million people\n",
    "pop[pop <1000]"
   ]
  },
  {
   "cell_type": "code",
   "execution_count": 18,
   "metadata": {},
   "outputs": [
    {
     "data": {
      "text/plain": [
       "San Antonio    1493\n",
       "Munich         1260\n",
       "Frankfurt       650\n",
       "dtype: int64"
      ]
     },
     "execution_count": 18,
     "metadata": {},
     "output_type": "execute_result"
    }
   ],
   "source": [
    "# All cities that do not have a specific value (e.g., 885) \n",
    "pop[pop != 885]"
   ]
  },
  {
   "cell_type": "markdown",
   "metadata": {},
   "source": [
    "# Dictionaries\n",
    "A Series may also be thought of as an [ordered key-value](https://en.wikipedia.org/wiki/Key-value_database) database, a data structure that is sometimes referred to as a dictionary or a [hash table](https://en.wikipedia.org/wiki/Hash_table).  In pandas, the term  <b>dictionary</b> is used, and the convention `dict` is commonly used to name a pandas dictionary. "
   ]
  },
  {
   "cell_type": "code",
   "execution_count": 20,
   "metadata": {},
   "outputs": [
    {
     "data": {
      "text/plain": [
       "San Antonio      1493\n",
       "Munich           1260\n",
       "San Francisco     885\n",
       "Frankfurt         650\n",
       "dtype: int64"
      ]
     },
     "execution_count": 20,
     "metadata": {},
     "output_type": "execute_result"
    }
   ],
   "source": [
    "# Create a city dictionary\n",
    "city_dict = {'San Antonio': 1493, 'Munich': 1260, 'San Francisco': 885, 'Frankfurt': 650}\n",
    "\n",
    "# Create the pandas Series named 'city' \n",
    "# from the dictionary named 'city_dict'\n",
    "city = pd.Series(city_dict)\n",
    "city"
   ]
  },
  {
   "cell_type": "markdown",
   "metadata": {},
   "source": [
    "## Custom Indices\n",
    "Suppose we create a Series from the dictionary `city_dict`, as before, but include a custom index that includes a new city name, `Lisbon`, but omits `Munich`:"
   ]
  },
  {
   "cell_type": "code",
   "execution_count": 21,
   "metadata": {},
   "outputs": [
    {
     "data": {
      "text/plain": [
       "San Antonio      1493.0\n",
       "Lisbon              NaN\n",
       "San Francisco     885.0\n",
       "Frankfurt         650.0\n",
       "dtype: float64"
      ]
     },
     "execution_count": 21,
     "metadata": {},
     "output_type": "execute_result"
    }
   ],
   "source": [
    "city2 = pd.Series(city_dict, index=['San Antonio', 'Lisbon', 'San Francisco', 'Frankfurt'])\n",
    "city2"
   ]
  },
  {
   "cell_type": "markdown",
   "metadata": {},
   "source": [
    "## NaN: 'Not a Number'\n",
    "What the custom index in `city2` does is select the values keyed to `'San Antonio'`, `'San Francisco'`, and `'Frankfurt'` from `city_dict`, and treats any indices without a corresponding value in `city_dict` as missing.  In this example, the key `'Lisbon'` does not appear in `city_dict`, so its value is missing in the new Series `city2`.\n",
    "\n",
    "pandas uses the type `NaN`, which stands for \"<b>not a number</b>\", for missing values.  We test whether a Series contains missing values with the method `.isnull()`."
   ]
  },
  {
   "cell_type": "code",
   "execution_count": 22,
   "metadata": {},
   "outputs": [
    {
     "data": {
      "text/plain": [
       "San Antonio      False\n",
       "Lisbon            True\n",
       "San Francisco    False\n",
       "Frankfurt        False\n",
       "dtype: bool"
      ]
     },
     "execution_count": 22,
     "metadata": {},
     "output_type": "execute_result"
    }
   ],
   "source": [
    "# check for missing values\n",
    "city2.isnull()"
   ]
  },
  {
   "cell_type": "markdown",
   "metadata": {},
   "source": [
    "## Combining Series \n",
    "Adding two Series, such as `city` and `city2`, combines values with the same label."
   ]
  },
  {
   "cell_type": "code",
   "execution_count": 23,
   "metadata": {},
   "outputs": [
    {
     "data": {
      "text/plain": [
       "Frankfurt        1300.0\n",
       "Lisbon              NaN\n",
       "Munich              NaN\n",
       "San Antonio      2986.0\n",
       "San Francisco    1770.0\n",
       "dtype: float64"
      ]
     },
     "execution_count": 23,
     "metadata": {},
     "output_type": "execute_result"
    }
   ],
   "source": [
    "city + city2 #city里面没有Lisbon的值，city2里面没有Munich的值，则相加之后这俩城市都没有值"
   ]
  },
  {
   "cell_type": "markdown",
   "metadata": {},
   "source": [
    "Notice that the population value for Munich in `city`, i.e., `1260`, is not carried through. Put differently, missing values are propagated by addition.  \n",
    "\n",
    "Compare addition of Series to addition of two arrays of equal length in NumPy: NumPY combines values element-wise.  This can be checked with the method `.to_numpy()`)\\."
   ]
  },
  {
   "cell_type": "code",
   "execution_count": 24,
   "metadata": {},
   "outputs": [
    {
     "data": {
      "text/plain": [
       "array([2986.,   nan, 1770., 1300.])"
      ]
     },
     "execution_count": 24,
     "metadata": {},
     "output_type": "execute_result"
    }
   ],
   "source": [
    "# create np.arrays from Series\n",
    "city_array = city.to_numpy()\n",
    "city2_array = city2.to_numpy()\n",
    "\n",
    "# combine arrays\n",
    "city_array + city2_array"
   ]
  },
  {
   "cell_type": "markdown",
   "metadata": {},
   "source": [
    "Here, we have (`1493` + `1493`), (`1260` + `NaN`), (`885` + `885`), and (`650` + `650`).  Notice that `NaN` is propagated through.  Why? Since `NaN` is not a number and arithematical operations only work on numbers, propagating `1260` instead would treat `NaN` as `0`, which is a number, thus rendering `NaN` ambiguous. \n",
    "\n",
    "As a practical matter, you typically want to know when and where values are missing in your data and that fact about your data set should not be hidden from you, or worse, altered, by an arithmetical operation. How you choose to deal with `NaN`s should be up to you: in some cases in will make sense to replace `NaN`s with zeros, but not in all cases. Perhaps it would be more reasonable to replace `NaN`'s in a column by the mean, median, or some other function of the data that isn't missing in that column. In other cases the best course of action might be simply to remove the rows with `NaN`'s from your dataset. \n",
    "\n",
    "---"
   ]
  },
  {
   "cell_type": "markdown",
   "metadata": {},
   "source": [
    "# DataFrames\n",
    "A Series associates a single value with an index. What about associating multiple values with an index?  This is necessary to work with data that is <b>multivariate</b>, where there are columns of data that may be of different types. [DataFrames](https://pandas.pydata.org/pandas-docs/stable/reference/api/pandas.DataFrame.html) are the pandas data objects designed for this purpose."
   ]
  },
  {
   "cell_type": "code",
   "execution_count": 25,
   "metadata": {},
   "outputs": [
    {
     "data": {
      "text/html": [
       "<div>\n",
       "<style scoped>\n",
       "    .dataframe tbody tr th:only-of-type {\n",
       "        vertical-align: middle;\n",
       "    }\n",
       "\n",
       "    .dataframe tbody tr th {\n",
       "        vertical-align: top;\n",
       "    }\n",
       "\n",
       "    .dataframe thead th {\n",
       "        text-align: right;\n",
       "    }\n",
       "</style>\n",
       "<table border=\"1\" class=\"dataframe\">\n",
       "  <thead>\n",
       "    <tr style=\"text-align: right;\">\n",
       "      <th></th>\n",
       "      <th>population</th>\n",
       "      <th>city</th>\n",
       "      <th>country</th>\n",
       "      <th>euro</th>\n",
       "    </tr>\n",
       "  </thead>\n",
       "  <tbody>\n",
       "    <tr>\n",
       "      <th>0</th>\n",
       "      <td>1493</td>\n",
       "      <td>San Antonio</td>\n",
       "      <td>USA</td>\n",
       "      <td>False</td>\n",
       "    </tr>\n",
       "    <tr>\n",
       "      <th>1</th>\n",
       "      <td>1475</td>\n",
       "      <td>Kyoto</td>\n",
       "      <td>Japan</td>\n",
       "      <td>False</td>\n",
       "    </tr>\n",
       "    <tr>\n",
       "      <th>2</th>\n",
       "      <td>1260</td>\n",
       "      <td>Munich</td>\n",
       "      <td>Germany</td>\n",
       "      <td>True</td>\n",
       "    </tr>\n",
       "    <tr>\n",
       "      <th>3</th>\n",
       "      <td>885</td>\n",
       "      <td>San Francisco</td>\n",
       "      <td>USA</td>\n",
       "      <td>False</td>\n",
       "    </tr>\n",
       "    <tr>\n",
       "      <th>4</th>\n",
       "      <td>675</td>\n",
       "      <td>Vancouver</td>\n",
       "      <td>Canada</td>\n",
       "      <td>False</td>\n",
       "    </tr>\n",
       "    <tr>\n",
       "      <th>5</th>\n",
       "      <td>650</td>\n",
       "      <td>Frankfurt</td>\n",
       "      <td>Germany</td>\n",
       "      <td>True</td>\n",
       "    </tr>\n",
       "    <tr>\n",
       "      <th>6</th>\n",
       "      <td>504</td>\n",
       "      <td>Lisbon</td>\n",
       "      <td>Portugal</td>\n",
       "      <td>True</td>\n",
       "    </tr>\n",
       "    <tr>\n",
       "      <th>7</th>\n",
       "      <td>249</td>\n",
       "      <td>Porto</td>\n",
       "      <td>Portugal</td>\n",
       "      <td>True</td>\n",
       "    </tr>\n",
       "  </tbody>\n",
       "</table>\n",
       "</div>"
      ],
      "text/plain": [
       "   population           city   country   euro\n",
       "0        1493    San Antonio       USA  False\n",
       "1        1475          Kyoto     Japan  False\n",
       "2        1260         Munich   Germany   True\n",
       "3         885  San Francisco       USA  False\n",
       "4         675      Vancouver    Canada  False\n",
       "5         650      Frankfurt   Germany   True\n",
       "6         504         Lisbon  Portugal   True\n",
       "7         249          Porto  Portugal   True"
      ]
     },
     "execution_count": 25,
     "metadata": {},
     "output_type": "execute_result"
    }
   ],
   "source": [
    "city_df = pd.DataFrame({'population':[1493, 1475, 1260, 885, 675, 650, 504, 249],\n",
    "                       'city': ['San Antonio', 'Kyoto', 'Munich', 'San Francisco',\n",
    "                                'Vancouver', 'Frankfurt', 'Lisbon', 'Porto'],\n",
    "                       'country': ['USA', 'Japan', 'Germany', 'USA', 'Canada', \n",
    "                                   'Germany', 'Portugal', 'Portugal'],\n",
    "                       'euro': [False, False, True, False, False, True, True, True]})\n",
    "city_df"
   ]
  },
  {
   "cell_type": "code",
   "execution_count": 26,
   "metadata": {},
   "outputs": [
    {
     "data": {
      "text/plain": [
       "(8, 4)"
      ]
     },
     "execution_count": 26,
     "metadata": {},
     "output_type": "execute_result"
    }
   ],
   "source": [
    "# inspect the shape\n",
    "city_df.shape"
   ]
  },
  {
   "cell_type": "markdown",
   "metadata": {},
   "source": [
    "Informally, the dataframe `city_df` has data about 8 cities in the form of four features, namely the city name, its population, the country that city is located in, and whether that country uses the Euro.  \n",
    "\n",
    "Notice from this example that DataFrames have a default index, like we saw above with Series.  But instead of one column of values, there are many. (Here we have made the city name a column of values, rather than use them as an index.)  "
   ]
  },
  {
   "cell_type": "code",
   "execution_count": 27,
   "metadata": {},
   "outputs": [
    {
     "name": "stdout",
     "output_type": "stream",
     "text": [
      "<class 'pandas.core.frame.DataFrame'>\n",
      "RangeIndex: 8 entries, 0 to 7\n",
      "Data columns (total 4 columns):\n",
      " #   Column      Non-Null Count  Dtype \n",
      "---  ------      --------------  ----- \n",
      " 0   population  8 non-null      int64 \n",
      " 1   city        8 non-null      object\n",
      " 2   country     8 non-null      object\n",
      " 3   euro        8 non-null      bool  \n",
      "dtypes: bool(1), int64(1), object(2)\n",
      "memory usage: 328.0+ bytes\n"
     ]
    }
   ],
   "source": [
    "# get information about the dataframe\n",
    "city_df.info()"
   ]
  },
  {
   "cell_type": "markdown",
   "metadata": {},
   "source": [
    "Notice too that the values are of <b>different types</b>: there are numbers (64 bit signed integers, `int64`, for populations), strings (`object`, the most general datatype, for city names and country names), and Boolean values (`bool`), for using the euro or not using the euro). \n",
    "\n",
    "---\n",
    "\n",
    "# Basic data types (an aside)\n",
    "We've seen `type()` used to determine the type of a Python object. Using `is` to create test conditions that return `True` or `False`, we can see syntax underlying some basic data types in Python."
   ]
  },
  {
   "cell_type": "code",
   "execution_count": 28,
   "metadata": {},
   "outputs": [
    {
     "data": {
      "text/plain": [
       "True"
      ]
     },
     "execution_count": 28,
     "metadata": {},
     "output_type": "execute_result"
    }
   ],
   "source": [
    "# is a string?\n",
    "type('') is str"
   ]
  },
  {
   "cell_type": "code",
   "execution_count": 29,
   "metadata": {},
   "outputs": [
    {
     "data": {
      "text/plain": [
       "True"
      ]
     },
     "execution_count": 29,
     "metadata": {},
     "output_type": "execute_result"
    }
   ],
   "source": [
    "# is a list?\n",
    "type([]) is list"
   ]
  },
  {
   "cell_type": "code",
   "execution_count": 30,
   "metadata": {},
   "outputs": [
    {
     "data": {
      "text/plain": [
       "True"
      ]
     },
     "execution_count": 30,
     "metadata": {},
     "output_type": "execute_result"
    }
   ],
   "source": [
    "# is a dictionary?\n",
    "type({}) is dict"
   ]
  },
  {
   "cell_type": "code",
   "execution_count": 31,
   "metadata": {},
   "outputs": [
    {
     "data": {
      "text/plain": [
       "True"
      ]
     },
     "execution_count": 31,
     "metadata": {},
     "output_type": "execute_result"
    }
   ],
   "source": [
    "# is an integer? \n",
    "type(0) is int"
   ]
  },
  {
   "cell_type": "code",
   "execution_count": 32,
   "metadata": {},
   "outputs": [
    {
     "data": {
      "text/plain": [
       "True"
      ]
     },
     "execution_count": 32,
     "metadata": {},
     "output_type": "execute_result"
    }
   ],
   "source": [
    "# is a floating point number?\n",
    "type(0.0) is float"
   ]
  },
  {
   "cell_type": "code",
   "execution_count": 33,
   "metadata": {},
   "outputs": [
    {
     "data": {
      "text/plain": [
       "True"
      ]
     },
     "execution_count": 33,
     "metadata": {},
     "output_type": "execute_result"
    }
   ],
   "source": [
    "# is a boolean?\n",
    "type(False) is bool"
   ]
  },
  {
   "cell_type": "markdown",
   "metadata": {},
   "source": [
    "Returning to DataFrames. `df` is the common convention used to name variables which store DataFrames.  This, like other naming conventions, is for the convenience of humans writing code and for others who are reading your code."
   ]
  },
  {
   "cell_type": "markdown",
   "metadata": {},
   "source": [
    "## Column indexing\n",
    "A DataFrame has an index for rows, as before, but also for columns. "
   ]
  },
  {
   "cell_type": "code",
   "execution_count": 34,
   "metadata": {},
   "outputs": [
    {
     "data": {
      "text/plain": [
       "RangeIndex(start=0, stop=8, step=1)"
      ]
     },
     "execution_count": 34,
     "metadata": {},
     "output_type": "execute_result"
    }
   ],
   "source": [
    "# row index (same as w/ Series) \n",
    "city_df.index"
   ]
  },
  {
   "cell_type": "code",
   "execution_count": 35,
   "metadata": {},
   "outputs": [
    {
     "data": {
      "text/plain": [
       "Index(['population', 'city', 'country', 'euro'], dtype='object')"
      ]
     },
     "execution_count": 35,
     "metadata": {},
     "output_type": "execute_result"
    }
   ],
   "source": [
    "# column index \n",
    "city_df.columns"
   ]
  },
  {
   "cell_type": "markdown",
   "metadata": {},
   "source": [
    "You can index a column by the dictionary key or by attribute."
   ]
  },
  {
   "cell_type": "code",
   "execution_count": 36,
   "metadata": {},
   "outputs": [
    {
     "data": {
      "text/plain": [
       "0         USA\n",
       "1       Japan\n",
       "2     Germany\n",
       "3         USA\n",
       "4      Canada\n",
       "5     Germany\n",
       "6    Portugal\n",
       "7    Portugal\n",
       "Name: country, dtype: object"
      ]
     },
     "execution_count": 36,
     "metadata": {},
     "output_type": "execute_result"
    }
   ],
   "source": [
    "# index a column by dict\n",
    "city_df['country']"
   ]
  },
  {
   "cell_type": "code",
   "execution_count": 37,
   "metadata": {},
   "outputs": [
    {
     "data": {
      "text/plain": [
       "0         USA\n",
       "1       Japan\n",
       "2     Germany\n",
       "3         USA\n",
       "4      Canada\n",
       "5     Germany\n",
       "6    Portugal\n",
       "7    Portugal\n",
       "Name: country, dtype: object"
      ]
     },
     "execution_count": 37,
     "metadata": {},
     "output_type": "execute_result"
    }
   ],
   "source": [
    "# index a column by attribute (equivalent result)\n",
    "city_df.country"
   ]
  },
  {
   "cell_type": "markdown",
   "metadata": {},
   "source": [
    "---\n",
    "In either case, \n",
    "\n",
    "~~~python\n",
    "city_df['country']\n",
    "~~~\n",
    "\n",
    "or\n",
    "\n",
    "~~~python\n",
    "city_df.country\n",
    "~~~\n",
    "indexing a column of a DataFrame returns the column as a Series."
   ]
  },
  {
   "cell_type": "code",
   "execution_count": 38,
   "metadata": {},
   "outputs": [
    {
     "data": {
      "text/plain": [
       "pandas.core.series.Series"
      ]
     },
     "execution_count": 38,
     "metadata": {},
     "output_type": "execute_result"
    }
   ],
   "source": [
    "# standard indexing of a column of \n",
    "# a DataFrame returns a Series\n",
    "type(city_df['country'])"
   ]
  },
  {
   "cell_type": "markdown",
   "metadata": {},
   "source": [
    "## Row indexing\n",
    "With Series, dictionary indexing retreived a particular element of the series -- a single element row. With DataFrames, use either `iloc` (integer-based indexing) or the `loc` attribute.\n",
    "\n",
    "<b>Note:</b> You might find examples using the `ix` attribute, which was a hybrid of `iloc` and `loc`. However, `ix` has been depreciated.\n",
    "\n",
    "In `city_df` example, the default integer index is the only index: we have not created an alternative. So, these integer indices are accessible by `iloc` and `loc`. "
   ]
  },
  {
   "cell_type": "code",
   "execution_count": 45,
   "metadata": {},
   "outputs": [
    {
     "data": {
      "text/plain": [
       "population       1260\n",
       "city           Munich\n",
       "country       Germany\n",
       "euro             True\n",
       "Name: 2, dtype: object"
      ]
     },
     "execution_count": 45,
     "metadata": {},
     "output_type": "execute_result"
    }
   ],
   "source": [
    "# iloc uses the integer index\n",
    "city_df.iloc[2]"
   ]
  },
  {
   "cell_type": "code",
   "execution_count": 43,
   "metadata": {},
   "outputs": [
    {
     "data": {
      "text/plain": [
       "population       1260\n",
       "city           Munich\n",
       "country       Germany\n",
       "euro             True\n",
       "Name: 2, dtype: object"
      ]
     },
     "execution_count": 43,
     "metadata": {},
     "output_type": "execute_result"
    }
   ],
   "source": [
    "# loc uses the integer index\n",
    "city_df.loc[2]"
   ]
  },
  {
   "cell_type": "markdown",
   "metadata": {},
   "source": [
    "## Filtering\n",
    "The `.filtering()` method can be used to select a subset of rows or columns of a DataFrame according to index labels"
   ]
  },
  {
   "cell_type": "code",
   "execution_count": 50,
   "metadata": {},
   "outputs": [
    {
     "data": {
      "text/html": [
       "<div>\n",
       "<style scoped>\n",
       "    .dataframe tbody tr th:only-of-type {\n",
       "        vertical-align: middle;\n",
       "    }\n",
       "\n",
       "    .dataframe tbody tr th {\n",
       "        vertical-align: top;\n",
       "    }\n",
       "\n",
       "    .dataframe thead th {\n",
       "        text-align: right;\n",
       "    }\n",
       "</style>\n",
       "<table border=\"1\" class=\"dataframe\">\n",
       "  <thead>\n",
       "    <tr style=\"text-align: right;\">\n",
       "      <th></th>\n",
       "      <th>city</th>\n",
       "      <th>population</th>\n",
       "    </tr>\n",
       "  </thead>\n",
       "  <tbody>\n",
       "    <tr>\n",
       "      <th>0</th>\n",
       "      <td>San Antonio</td>\n",
       "      <td>1493</td>\n",
       "    </tr>\n",
       "    <tr>\n",
       "      <th>1</th>\n",
       "      <td>Kyoto</td>\n",
       "      <td>1475</td>\n",
       "    </tr>\n",
       "    <tr>\n",
       "      <th>2</th>\n",
       "      <td>Munich</td>\n",
       "      <td>1260</td>\n",
       "    </tr>\n",
       "    <tr>\n",
       "      <th>3</th>\n",
       "      <td>San Francisco</td>\n",
       "      <td>885</td>\n",
       "    </tr>\n",
       "    <tr>\n",
       "      <th>4</th>\n",
       "      <td>Vancouver</td>\n",
       "      <td>675</td>\n",
       "    </tr>\n",
       "    <tr>\n",
       "      <th>5</th>\n",
       "      <td>Frankfurt</td>\n",
       "      <td>650</td>\n",
       "    </tr>\n",
       "    <tr>\n",
       "      <th>6</th>\n",
       "      <td>Lisbon</td>\n",
       "      <td>504</td>\n",
       "    </tr>\n",
       "    <tr>\n",
       "      <th>7</th>\n",
       "      <td>Porto</td>\n",
       "      <td>249</td>\n",
       "    </tr>\n",
       "  </tbody>\n",
       "</table>\n",
       "</div>"
      ],
      "text/plain": [
       "            city  population\n",
       "0    San Antonio        1493\n",
       "1          Kyoto        1475\n",
       "2         Munich        1260\n",
       "3  San Francisco         885\n",
       "4      Vancouver         675\n",
       "5      Frankfurt         650\n",
       "6         Lisbon         504\n",
       "7          Porto         249"
      ]
     },
     "execution_count": 50,
     "metadata": {},
     "output_type": "execute_result"
    }
   ],
   "source": [
    "city_df.filter(['city','population']) # = city_df[['city','population']]"
   ]
  },
  {
   "cell_type": "markdown",
   "metadata": {},
   "source": [
    "## Boolean indexing\n",
    "Alternatively, you can use the Boolean operators for <b>and</b>, <b>or</b>, and <b>not</b>:\n",
    " - and: `&`  \n",
    " - or: `|`  \n",
    " - not:  `~`  \n",
    "\n",
    "to construct logical criteria applied to values in the DataFrame to select a subset. "
   ]
  },
  {
   "cell_type": "code",
   "execution_count": 55,
   "metadata": {},
   "outputs": [
    {
     "data": {
      "text/html": [
       "<div>\n",
       "<style scoped>\n",
       "    .dataframe tbody tr th:only-of-type {\n",
       "        vertical-align: middle;\n",
       "    }\n",
       "\n",
       "    .dataframe tbody tr th {\n",
       "        vertical-align: top;\n",
       "    }\n",
       "\n",
       "    .dataframe thead th {\n",
       "        text-align: right;\n",
       "    }\n",
       "</style>\n",
       "<table border=\"1\" class=\"dataframe\">\n",
       "  <thead>\n",
       "    <tr style=\"text-align: right;\">\n",
       "      <th></th>\n",
       "      <th>population</th>\n",
       "      <th>city</th>\n",
       "      <th>country</th>\n",
       "      <th>euro</th>\n",
       "    </tr>\n",
       "  </thead>\n",
       "  <tbody>\n",
       "    <tr>\n",
       "      <th>0</th>\n",
       "      <td>1493</td>\n",
       "      <td>San Antonio</td>\n",
       "      <td>USA</td>\n",
       "      <td>False</td>\n",
       "    </tr>\n",
       "    <tr>\n",
       "      <th>3</th>\n",
       "      <td>885</td>\n",
       "      <td>San Francisco</td>\n",
       "      <td>USA</td>\n",
       "      <td>False</td>\n",
       "    </tr>\n",
       "    <tr>\n",
       "      <th>4</th>\n",
       "      <td>675</td>\n",
       "      <td>Vancouver</td>\n",
       "      <td>Canada</td>\n",
       "      <td>False</td>\n",
       "    </tr>\n",
       "  </tbody>\n",
       "</table>\n",
       "</div>"
      ],
      "text/plain": [
       "   population           city country   euro\n",
       "0        1493    San Antonio     USA  False\n",
       "3         885  San Francisco     USA  False\n",
       "4         675      Vancouver  Canada  False"
      ]
     },
     "execution_count": 55,
     "metadata": {},
     "output_type": "execute_result"
    }
   ],
   "source": [
    "# Cities in North America\n",
    "#  (City in USA OR City in Canada)\n",
    "city_df[(city_df['country'] == 'USA') | (city_df['country'] == 'Canada')]"
   ]
  },
  {
   "cell_type": "code",
   "execution_count": 56,
   "metadata": {},
   "outputs": [
    {
     "data": {
      "text/html": [
       "<div>\n",
       "<style scoped>\n",
       "    .dataframe tbody tr th:only-of-type {\n",
       "        vertical-align: middle;\n",
       "    }\n",
       "\n",
       "    .dataframe tbody tr th {\n",
       "        vertical-align: top;\n",
       "    }\n",
       "\n",
       "    .dataframe thead th {\n",
       "        text-align: right;\n",
       "    }\n",
       "</style>\n",
       "<table border=\"1\" class=\"dataframe\">\n",
       "  <thead>\n",
       "    <tr style=\"text-align: right;\">\n",
       "      <th></th>\n",
       "      <th>population</th>\n",
       "      <th>city</th>\n",
       "      <th>country</th>\n",
       "      <th>euro</th>\n",
       "    </tr>\n",
       "  </thead>\n",
       "  <tbody>\n",
       "    <tr>\n",
       "      <th>1</th>\n",
       "      <td>1475</td>\n",
       "      <td>Kyoto</td>\n",
       "      <td>Japan</td>\n",
       "      <td>False</td>\n",
       "    </tr>\n",
       "    <tr>\n",
       "      <th>2</th>\n",
       "      <td>1260</td>\n",
       "      <td>Munich</td>\n",
       "      <td>Germany</td>\n",
       "      <td>True</td>\n",
       "    </tr>\n",
       "    <tr>\n",
       "      <th>5</th>\n",
       "      <td>650</td>\n",
       "      <td>Frankfurt</td>\n",
       "      <td>Germany</td>\n",
       "      <td>True</td>\n",
       "    </tr>\n",
       "    <tr>\n",
       "      <th>6</th>\n",
       "      <td>504</td>\n",
       "      <td>Lisbon</td>\n",
       "      <td>Portugal</td>\n",
       "      <td>True</td>\n",
       "    </tr>\n",
       "    <tr>\n",
       "      <th>7</th>\n",
       "      <td>249</td>\n",
       "      <td>Porto</td>\n",
       "      <td>Portugal</td>\n",
       "      <td>True</td>\n",
       "    </tr>\n",
       "  </tbody>\n",
       "</table>\n",
       "</div>"
      ],
      "text/plain": [
       "   population       city   country   euro\n",
       "1        1475      Kyoto     Japan  False\n",
       "2        1260     Munich   Germany   True\n",
       "5         650  Frankfurt   Germany   True\n",
       "6         504     Lisbon  Portugal   True\n",
       "7         249      Porto  Portugal   True"
      ]
     },
     "execution_count": 56,
     "metadata": {},
     "output_type": "execute_result"
    }
   ],
   "source": [
    "# Cities not in North America\n",
    "#  (NOT (City in USA OR City in Canada))\n",
    "city_df[~((city_df['country'] == 'USA') | (city_df['country'] == 'Canada'))]"
   ]
  },
  {
   "cell_type": "code",
   "execution_count": 57,
   "metadata": {},
   "outputs": [
    {
     "data": {
      "text/html": [
       "<div>\n",
       "<style scoped>\n",
       "    .dataframe tbody tr th:only-of-type {\n",
       "        vertical-align: middle;\n",
       "    }\n",
       "\n",
       "    .dataframe tbody tr th {\n",
       "        vertical-align: top;\n",
       "    }\n",
       "\n",
       "    .dataframe thead th {\n",
       "        text-align: right;\n",
       "    }\n",
       "</style>\n",
       "<table border=\"1\" class=\"dataframe\">\n",
       "  <thead>\n",
       "    <tr style=\"text-align: right;\">\n",
       "      <th></th>\n",
       "      <th>population</th>\n",
       "      <th>city</th>\n",
       "      <th>country</th>\n",
       "      <th>euro</th>\n",
       "    </tr>\n",
       "  </thead>\n",
       "  <tbody>\n",
       "    <tr>\n",
       "      <th>3</th>\n",
       "      <td>885</td>\n",
       "      <td>San Francisco</td>\n",
       "      <td>USA</td>\n",
       "      <td>False</td>\n",
       "    </tr>\n",
       "    <tr>\n",
       "      <th>4</th>\n",
       "      <td>675</td>\n",
       "      <td>Vancouver</td>\n",
       "      <td>Canada</td>\n",
       "      <td>False</td>\n",
       "    </tr>\n",
       "  </tbody>\n",
       "</table>\n",
       "</div>"
      ],
      "text/plain": [
       "   population           city country   euro\n",
       "3         885  San Francisco     USA  False\n",
       "4         675      Vancouver  Canada  False"
      ]
     },
     "execution_count": 57,
     "metadata": {},
     "output_type": "execute_result"
    }
   ],
   "source": [
    "# Cities in North America smaller than 1 million people\n",
    "#  (City population < 1M) AND (City in USA OR City in Canada)\n",
    "city_df[(city_df['population']<1000) & \n",
    "        ((city_df['country'] == 'USA') | (city_df['country'] == 'Canada')) \n",
    "         ]"
   ]
  },
  {
   "cell_type": "markdown",
   "metadata": {},
   "source": [
    "## Sorting\n",
    "A DataFrame may be sorted by the values of a column, a column may be selected and sorted its values, or a column selected and sorted by values in another column."
   ]
  },
  {
   "cell_type": "code",
   "execution_count": 58,
   "metadata": {},
   "outputs": [
    {
     "data": {
      "text/html": [
       "<div>\n",
       "<style scoped>\n",
       "    .dataframe tbody tr th:only-of-type {\n",
       "        vertical-align: middle;\n",
       "    }\n",
       "\n",
       "    .dataframe tbody tr th {\n",
       "        vertical-align: top;\n",
       "    }\n",
       "\n",
       "    .dataframe thead th {\n",
       "        text-align: right;\n",
       "    }\n",
       "</style>\n",
       "<table border=\"1\" class=\"dataframe\">\n",
       "  <thead>\n",
       "    <tr style=\"text-align: right;\">\n",
       "      <th></th>\n",
       "      <th>population</th>\n",
       "      <th>city</th>\n",
       "      <th>country</th>\n",
       "      <th>euro</th>\n",
       "    </tr>\n",
       "  </thead>\n",
       "  <tbody>\n",
       "    <tr>\n",
       "      <th>5</th>\n",
       "      <td>650</td>\n",
       "      <td>Frankfurt</td>\n",
       "      <td>Germany</td>\n",
       "      <td>True</td>\n",
       "    </tr>\n",
       "    <tr>\n",
       "      <th>1</th>\n",
       "      <td>1475</td>\n",
       "      <td>Kyoto</td>\n",
       "      <td>Japan</td>\n",
       "      <td>False</td>\n",
       "    </tr>\n",
       "    <tr>\n",
       "      <th>6</th>\n",
       "      <td>504</td>\n",
       "      <td>Lisbon</td>\n",
       "      <td>Portugal</td>\n",
       "      <td>True</td>\n",
       "    </tr>\n",
       "    <tr>\n",
       "      <th>2</th>\n",
       "      <td>1260</td>\n",
       "      <td>Munich</td>\n",
       "      <td>Germany</td>\n",
       "      <td>True</td>\n",
       "    </tr>\n",
       "    <tr>\n",
       "      <th>7</th>\n",
       "      <td>249</td>\n",
       "      <td>Porto</td>\n",
       "      <td>Portugal</td>\n",
       "      <td>True</td>\n",
       "    </tr>\n",
       "    <tr>\n",
       "      <th>0</th>\n",
       "      <td>1493</td>\n",
       "      <td>San Antonio</td>\n",
       "      <td>USA</td>\n",
       "      <td>False</td>\n",
       "    </tr>\n",
       "    <tr>\n",
       "      <th>3</th>\n",
       "      <td>885</td>\n",
       "      <td>San Francisco</td>\n",
       "      <td>USA</td>\n",
       "      <td>False</td>\n",
       "    </tr>\n",
       "    <tr>\n",
       "      <th>4</th>\n",
       "      <td>675</td>\n",
       "      <td>Vancouver</td>\n",
       "      <td>Canada</td>\n",
       "      <td>False</td>\n",
       "    </tr>\n",
       "  </tbody>\n",
       "</table>\n",
       "</div>"
      ],
      "text/plain": [
       "   population           city   country   euro\n",
       "5         650      Frankfurt   Germany   True\n",
       "1        1475          Kyoto     Japan  False\n",
       "6         504         Lisbon  Portugal   True\n",
       "2        1260         Munich   Germany   True\n",
       "7         249          Porto  Portugal   True\n",
       "0        1493    San Antonio       USA  False\n",
       "3         885  San Francisco       USA  False\n",
       "4         675      Vancouver    Canada  False"
      ]
     },
     "execution_count": 58,
     "metadata": {},
     "output_type": "execute_result"
    }
   ],
   "source": [
    "# sort city_df into alphabetical order of cities\n",
    "city_df.sort_values('city')"
   ]
  },
  {
   "cell_type": "code",
   "execution_count": 61,
   "metadata": {},
   "outputs": [
    {
     "data": {
      "text/html": [
       "<div>\n",
       "<style scoped>\n",
       "    .dataframe tbody tr th:only-of-type {\n",
       "        vertical-align: middle;\n",
       "    }\n",
       "\n",
       "    .dataframe tbody tr th {\n",
       "        vertical-align: top;\n",
       "    }\n",
       "\n",
       "    .dataframe thead th {\n",
       "        text-align: right;\n",
       "    }\n",
       "</style>\n",
       "<table border=\"1\" class=\"dataframe\">\n",
       "  <thead>\n",
       "    <tr style=\"text-align: right;\">\n",
       "      <th></th>\n",
       "      <th>city</th>\n",
       "    </tr>\n",
       "  </thead>\n",
       "  <tbody>\n",
       "    <tr>\n",
       "      <th>5</th>\n",
       "      <td>Frankfurt</td>\n",
       "    </tr>\n",
       "    <tr>\n",
       "      <th>1</th>\n",
       "      <td>Kyoto</td>\n",
       "    </tr>\n",
       "    <tr>\n",
       "      <th>6</th>\n",
       "      <td>Lisbon</td>\n",
       "    </tr>\n",
       "    <tr>\n",
       "      <th>2</th>\n",
       "      <td>Munich</td>\n",
       "    </tr>\n",
       "    <tr>\n",
       "      <th>7</th>\n",
       "      <td>Porto</td>\n",
       "    </tr>\n",
       "    <tr>\n",
       "      <th>0</th>\n",
       "      <td>San Antonio</td>\n",
       "    </tr>\n",
       "    <tr>\n",
       "      <th>3</th>\n",
       "      <td>San Francisco</td>\n",
       "    </tr>\n",
       "    <tr>\n",
       "      <th>4</th>\n",
       "      <td>Vancouver</td>\n",
       "    </tr>\n",
       "  </tbody>\n",
       "</table>\n",
       "</div>"
      ],
      "text/plain": [
       "            city\n",
       "5      Frankfurt\n",
       "1          Kyoto\n",
       "6         Lisbon\n",
       "2         Munich\n",
       "7          Porto\n",
       "0    San Antonio\n",
       "3  San Francisco\n",
       "4      Vancouver"
      ]
     },
     "execution_count": 61,
     "metadata": {},
     "output_type": "execute_result"
    }
   ],
   "source": [
    "# Index cities and sort them\n",
    "# Note that sort method only works on DataFrames\n",
    "city_df[['city']].sort_values('city')"
   ]
  },
  {
   "cell_type": "code",
   "execution_count": 64,
   "metadata": {},
   "outputs": [
    {
     "data": {
      "text/html": [
       "<div>\n",
       "<style scoped>\n",
       "    .dataframe tbody tr th:only-of-type {\n",
       "        vertical-align: middle;\n",
       "    }\n",
       "\n",
       "    .dataframe tbody tr th {\n",
       "        vertical-align: top;\n",
       "    }\n",
       "\n",
       "    .dataframe thead th {\n",
       "        text-align: right;\n",
       "    }\n",
       "</style>\n",
       "<table border=\"1\" class=\"dataframe\">\n",
       "  <thead>\n",
       "    <tr style=\"text-align: right;\">\n",
       "      <th></th>\n",
       "      <th>city</th>\n",
       "    </tr>\n",
       "  </thead>\n",
       "  <tbody>\n",
       "    <tr>\n",
       "      <th>7</th>\n",
       "      <td>Porto</td>\n",
       "    </tr>\n",
       "    <tr>\n",
       "      <th>6</th>\n",
       "      <td>Lisbon</td>\n",
       "    </tr>\n",
       "    <tr>\n",
       "      <th>5</th>\n",
       "      <td>Frankfurt</td>\n",
       "    </tr>\n",
       "    <tr>\n",
       "      <th>4</th>\n",
       "      <td>Vancouver</td>\n",
       "    </tr>\n",
       "    <tr>\n",
       "      <th>3</th>\n",
       "      <td>San Francisco</td>\n",
       "    </tr>\n",
       "    <tr>\n",
       "      <th>2</th>\n",
       "      <td>Munich</td>\n",
       "    </tr>\n",
       "    <tr>\n",
       "      <th>1</th>\n",
       "      <td>Kyoto</td>\n",
       "    </tr>\n",
       "    <tr>\n",
       "      <th>0</th>\n",
       "      <td>San Antonio</td>\n",
       "    </tr>\n",
       "  </tbody>\n",
       "</table>\n",
       "</div>"
      ],
      "text/plain": [
       "            city\n",
       "7          Porto\n",
       "6         Lisbon\n",
       "5      Frankfurt\n",
       "4      Vancouver\n",
       "3  San Francisco\n",
       "2         Munich\n",
       "1          Kyoto\n",
       "0    San Antonio"
      ]
     },
     "execution_count": 64,
     "metadata": {},
     "output_type": "execute_result"
    }
   ],
   "source": [
    "# Sort cities by population (ascending order) then index the column city\n",
    "# EXERCISE: Try indexing cities then sort by population, and then  \n",
    "# explain the result: city_df[['city']] is a new df which has no data for population\n",
    "city_df.sort_values('population')[['city']]"
   ]
  },
  {
   "cell_type": "markdown",
   "metadata": {},
   "source": [
    "## Reordering Columns\n",
    "We can rearrange the columns in a DataFrame by rearranging the order of the column indices."
   ]
  },
  {
   "cell_type": "code",
   "execution_count": 65,
   "metadata": {},
   "outputs": [
    {
     "data": {
      "text/html": [
       "<div>\n",
       "<style scoped>\n",
       "    .dataframe tbody tr th:only-of-type {\n",
       "        vertical-align: middle;\n",
       "    }\n",
       "\n",
       "    .dataframe tbody tr th {\n",
       "        vertical-align: top;\n",
       "    }\n",
       "\n",
       "    .dataframe thead th {\n",
       "        text-align: right;\n",
       "    }\n",
       "</style>\n",
       "<table border=\"1\" class=\"dataframe\">\n",
       "  <thead>\n",
       "    <tr style=\"text-align: right;\">\n",
       "      <th></th>\n",
       "      <th>city</th>\n",
       "      <th>population</th>\n",
       "      <th>country</th>\n",
       "      <th>euro</th>\n",
       "    </tr>\n",
       "  </thead>\n",
       "  <tbody>\n",
       "    <tr>\n",
       "      <th>0</th>\n",
       "      <td>San Antonio</td>\n",
       "      <td>1493</td>\n",
       "      <td>USA</td>\n",
       "      <td>False</td>\n",
       "    </tr>\n",
       "    <tr>\n",
       "      <th>1</th>\n",
       "      <td>Kyoto</td>\n",
       "      <td>1475</td>\n",
       "      <td>Japan</td>\n",
       "      <td>False</td>\n",
       "    </tr>\n",
       "    <tr>\n",
       "      <th>2</th>\n",
       "      <td>Munich</td>\n",
       "      <td>1260</td>\n",
       "      <td>Germany</td>\n",
       "      <td>True</td>\n",
       "    </tr>\n",
       "    <tr>\n",
       "      <th>3</th>\n",
       "      <td>San Francisco</td>\n",
       "      <td>885</td>\n",
       "      <td>USA</td>\n",
       "      <td>False</td>\n",
       "    </tr>\n",
       "    <tr>\n",
       "      <th>4</th>\n",
       "      <td>Vancouver</td>\n",
       "      <td>675</td>\n",
       "      <td>Canada</td>\n",
       "      <td>False</td>\n",
       "    </tr>\n",
       "    <tr>\n",
       "      <th>5</th>\n",
       "      <td>Frankfurt</td>\n",
       "      <td>650</td>\n",
       "      <td>Germany</td>\n",
       "      <td>True</td>\n",
       "    </tr>\n",
       "    <tr>\n",
       "      <th>6</th>\n",
       "      <td>Lisbon</td>\n",
       "      <td>504</td>\n",
       "      <td>Portugal</td>\n",
       "      <td>True</td>\n",
       "    </tr>\n",
       "    <tr>\n",
       "      <th>7</th>\n",
       "      <td>Porto</td>\n",
       "      <td>249</td>\n",
       "      <td>Portugal</td>\n",
       "      <td>True</td>\n",
       "    </tr>\n",
       "  </tbody>\n",
       "</table>\n",
       "</div>"
      ],
      "text/plain": [
       "            city  population   country   euro\n",
       "0    San Antonio        1493       USA  False\n",
       "1          Kyoto        1475     Japan  False\n",
       "2         Munich        1260   Germany   True\n",
       "3  San Francisco         885       USA  False\n",
       "4      Vancouver         675    Canada  False\n",
       "5      Frankfurt         650   Germany   True\n",
       "6         Lisbon         504  Portugal   True\n",
       "7          Porto         249  Portugal   True"
      ]
     },
     "execution_count": 65,
     "metadata": {},
     "output_type": "execute_result"
    }
   ],
   "source": [
    "city_df[['city', 'population', 'country', 'euro']]"
   ]
  },
  {
   "cell_type": "markdown",
   "metadata": {},
   "source": [
    "\n",
    "## Creating a DataFrame Row-wise\n",
    "Recall above that we used the following code to create `city_df` \"column-wise\":\n",
    "\n",
    "~~~python\n",
    "\n",
    "city_df = pd.DataFrame({'population':[1493, 1475, 1260, 885, 675, 650, 504, 249],\n",
    "                       'city': ['San Antonio', 'Kyoto', 'Munich', 'San Francisco',\n",
    "                                'Vancouver', 'Frankfurt', 'Lisbon', 'Porto'],\n",
    "                       'country': ['USA', 'Japan', 'Germany', 'USA', 'Canada', \n",
    "                                   'Germany', 'Portugal', 'Portugal'],\n",
    "                       'euro': [False, False, True, False, False, True, True, True]})\n",
    "\n",
    "~~~\n",
    "\n",
    "We could instead have created the same DataFrame row-wise:"
   ]
  },
  {
   "cell_type": "code",
   "execution_count": 66,
   "metadata": {},
   "outputs": [
    {
     "data": {
      "text/html": [
       "<div>\n",
       "<style scoped>\n",
       "    .dataframe tbody tr th:only-of-type {\n",
       "        vertical-align: middle;\n",
       "    }\n",
       "\n",
       "    .dataframe tbody tr th {\n",
       "        vertical-align: top;\n",
       "    }\n",
       "\n",
       "    .dataframe thead th {\n",
       "        text-align: right;\n",
       "    }\n",
       "</style>\n",
       "<table border=\"1\" class=\"dataframe\">\n",
       "  <thead>\n",
       "    <tr style=\"text-align: right;\">\n",
       "      <th></th>\n",
       "      <th>city</th>\n",
       "      <th>population</th>\n",
       "      <th>country</th>\n",
       "      <th>euro</th>\n",
       "    </tr>\n",
       "  </thead>\n",
       "  <tbody>\n",
       "    <tr>\n",
       "      <th>0</th>\n",
       "      <td>San Antonio</td>\n",
       "      <td>1493</td>\n",
       "      <td>USA</td>\n",
       "      <td>False</td>\n",
       "    </tr>\n",
       "    <tr>\n",
       "      <th>1</th>\n",
       "      <td>Kyoto</td>\n",
       "      <td>1475</td>\n",
       "      <td>Japan</td>\n",
       "      <td>False</td>\n",
       "    </tr>\n",
       "    <tr>\n",
       "      <th>2</th>\n",
       "      <td>Munich</td>\n",
       "      <td>1260</td>\n",
       "      <td>Germany</td>\n",
       "      <td>True</td>\n",
       "    </tr>\n",
       "    <tr>\n",
       "      <th>3</th>\n",
       "      <td>San Francisco</td>\n",
       "      <td>885</td>\n",
       "      <td>USA</td>\n",
       "      <td>False</td>\n",
       "    </tr>\n",
       "    <tr>\n",
       "      <th>4</th>\n",
       "      <td>Vancouver</td>\n",
       "      <td>675</td>\n",
       "      <td>Canada</td>\n",
       "      <td>False</td>\n",
       "    </tr>\n",
       "    <tr>\n",
       "      <th>5</th>\n",
       "      <td>Frankfurt</td>\n",
       "      <td>650</td>\n",
       "      <td>Germany</td>\n",
       "      <td>True</td>\n",
       "    </tr>\n",
       "    <tr>\n",
       "      <th>6</th>\n",
       "      <td>Lisbon</td>\n",
       "      <td>504</td>\n",
       "      <td>Portugal</td>\n",
       "      <td>True</td>\n",
       "    </tr>\n",
       "    <tr>\n",
       "      <th>7</th>\n",
       "      <td>Porto</td>\n",
       "      <td>249</td>\n",
       "      <td>Portugal</td>\n",
       "      <td>True</td>\n",
       "    </tr>\n",
       "  </tbody>\n",
       "</table>\n",
       "</div>"
      ],
      "text/plain": [
       "            city  population   country   euro\n",
       "0    San Antonio        1493       USA  False\n",
       "1          Kyoto        1475     Japan  False\n",
       "2         Munich        1260   Germany   True\n",
       "3  San Francisco         885       USA  False\n",
       "4      Vancouver         675    Canada  False\n",
       "5      Frankfurt         650   Germany   True\n",
       "6         Lisbon         504  Portugal   True\n",
       "7          Porto         249  Portugal   True"
      ]
     },
     "execution_count": 66,
     "metadata": {},
     "output_type": "execute_result"
    }
   ],
   "source": [
    "city_df = pd.DataFrame([{'city': 'San Antonio', 'population': 1493, 'country': 'USA', 'euro': False},\n",
    "                        {'city': 'Kyoto', 'population': 1475, 'country': 'Japan', 'euro': False},\n",
    "                        {'city': 'Munich', 'population': 1260, 'country': 'Germany', 'euro': True},\n",
    "                        {'city': 'San Francisco', 'population': 885, 'country': 'USA', 'euro': False},\n",
    "                        {'city': 'Vancouver', 'population': 675, 'country': 'Canada', 'euro': False},\n",
    "                        {'city': 'Frankfurt', 'population': 650, 'country': 'Germany', 'euro': True},\n",
    "                        {'city': 'Lisbon', 'population': 504, 'country': 'Portugal', 'euro': True},\n",
    "                        {'city': 'Porto', 'population': 249, 'country': 'Portugal', 'euro': True}])\n",
    "city_df"
   ]
  },
  {
   "cell_type": "markdown",
   "metadata": {},
   "source": [
    "## adding a column"
   ]
  },
  {
   "cell_type": "code",
   "execution_count": 67,
   "metadata": {},
   "outputs": [
    {
     "data": {
      "text/html": [
       "<div>\n",
       "<style scoped>\n",
       "    .dataframe tbody tr th:only-of-type {\n",
       "        vertical-align: middle;\n",
       "    }\n",
       "\n",
       "    .dataframe tbody tr th {\n",
       "        vertical-align: top;\n",
       "    }\n",
       "\n",
       "    .dataframe thead th {\n",
       "        text-align: right;\n",
       "    }\n",
       "</style>\n",
       "<table border=\"1\" class=\"dataframe\">\n",
       "  <thead>\n",
       "    <tr style=\"text-align: right;\">\n",
       "      <th></th>\n",
       "      <th>city</th>\n",
       "      <th>population</th>\n",
       "      <th>country</th>\n",
       "      <th>euro</th>\n",
       "      <th>year</th>\n",
       "    </tr>\n",
       "  </thead>\n",
       "  <tbody>\n",
       "    <tr>\n",
       "      <th>0</th>\n",
       "      <td>San Antonio</td>\n",
       "      <td>1493</td>\n",
       "      <td>USA</td>\n",
       "      <td>False</td>\n",
       "      <td>2019</td>\n",
       "    </tr>\n",
       "    <tr>\n",
       "      <th>1</th>\n",
       "      <td>Kyoto</td>\n",
       "      <td>1475</td>\n",
       "      <td>Japan</td>\n",
       "      <td>False</td>\n",
       "      <td>2019</td>\n",
       "    </tr>\n",
       "    <tr>\n",
       "      <th>2</th>\n",
       "      <td>Munich</td>\n",
       "      <td>1260</td>\n",
       "      <td>Germany</td>\n",
       "      <td>True</td>\n",
       "      <td>2019</td>\n",
       "    </tr>\n",
       "    <tr>\n",
       "      <th>3</th>\n",
       "      <td>San Francisco</td>\n",
       "      <td>885</td>\n",
       "      <td>USA</td>\n",
       "      <td>False</td>\n",
       "      <td>2019</td>\n",
       "    </tr>\n",
       "    <tr>\n",
       "      <th>4</th>\n",
       "      <td>Vancouver</td>\n",
       "      <td>675</td>\n",
       "      <td>Canada</td>\n",
       "      <td>False</td>\n",
       "      <td>2019</td>\n",
       "    </tr>\n",
       "    <tr>\n",
       "      <th>5</th>\n",
       "      <td>Frankfurt</td>\n",
       "      <td>650</td>\n",
       "      <td>Germany</td>\n",
       "      <td>True</td>\n",
       "      <td>2019</td>\n",
       "    </tr>\n",
       "    <tr>\n",
       "      <th>6</th>\n",
       "      <td>Lisbon</td>\n",
       "      <td>504</td>\n",
       "      <td>Portugal</td>\n",
       "      <td>True</td>\n",
       "      <td>2019</td>\n",
       "    </tr>\n",
       "    <tr>\n",
       "      <th>7</th>\n",
       "      <td>Porto</td>\n",
       "      <td>249</td>\n",
       "      <td>Portugal</td>\n",
       "      <td>True</td>\n",
       "      <td>2019</td>\n",
       "    </tr>\n",
       "  </tbody>\n",
       "</table>\n",
       "</div>"
      ],
      "text/plain": [
       "            city  population   country   euro  year\n",
       "0    San Antonio        1493       USA  False  2019\n",
       "1          Kyoto        1475     Japan  False  2019\n",
       "2         Munich        1260   Germany   True  2019\n",
       "3  San Francisco         885       USA  False  2019\n",
       "4      Vancouver         675    Canada  False  2019\n",
       "5      Frankfurt         650   Germany   True  2019\n",
       "6         Lisbon         504  Portugal   True  2019\n",
       "7          Porto         249  Portugal   True  2019"
      ]
     },
     "execution_count": 67,
     "metadata": {},
     "output_type": "execute_result"
    }
   ],
   "source": [
    "# Adding a column of identical values\n",
    "city_df['year'] = 2019\n",
    "city_df"
   ]
  },
  {
   "cell_type": "code",
   "execution_count": 68,
   "metadata": {},
   "outputs": [
    {
     "data": {
      "text/html": [
       "<div>\n",
       "<style scoped>\n",
       "    .dataframe tbody tr th:only-of-type {\n",
       "        vertical-align: middle;\n",
       "    }\n",
       "\n",
       "    .dataframe tbody tr th {\n",
       "        vertical-align: top;\n",
       "    }\n",
       "\n",
       "    .dataframe thead th {\n",
       "        text-align: right;\n",
       "    }\n",
       "</style>\n",
       "<table border=\"1\" class=\"dataframe\">\n",
       "  <thead>\n",
       "    <tr style=\"text-align: right;\">\n",
       "      <th></th>\n",
       "      <th>city</th>\n",
       "      <th>population</th>\n",
       "      <th>country</th>\n",
       "      <th>euro</th>\n",
       "      <th>year</th>\n",
       "      <th>founded</th>\n",
       "    </tr>\n",
       "  </thead>\n",
       "  <tbody>\n",
       "    <tr>\n",
       "      <th>0</th>\n",
       "      <td>San Antonio</td>\n",
       "      <td>1493</td>\n",
       "      <td>USA</td>\n",
       "      <td>False</td>\n",
       "      <td>2019</td>\n",
       "      <td>1718</td>\n",
       "    </tr>\n",
       "    <tr>\n",
       "      <th>1</th>\n",
       "      <td>Kyoto</td>\n",
       "      <td>1475</td>\n",
       "      <td>Japan</td>\n",
       "      <td>False</td>\n",
       "      <td>2019</td>\n",
       "      <td>794</td>\n",
       "    </tr>\n",
       "    <tr>\n",
       "      <th>2</th>\n",
       "      <td>Munich</td>\n",
       "      <td>1260</td>\n",
       "      <td>Germany</td>\n",
       "      <td>True</td>\n",
       "      <td>2019</td>\n",
       "      <td>1158</td>\n",
       "    </tr>\n",
       "    <tr>\n",
       "      <th>3</th>\n",
       "      <td>San Francisco</td>\n",
       "      <td>885</td>\n",
       "      <td>USA</td>\n",
       "      <td>False</td>\n",
       "      <td>2019</td>\n",
       "      <td>1776</td>\n",
       "    </tr>\n",
       "    <tr>\n",
       "      <th>4</th>\n",
       "      <td>Vancouver</td>\n",
       "      <td>675</td>\n",
       "      <td>Canada</td>\n",
       "      <td>False</td>\n",
       "      <td>2019</td>\n",
       "      <td>1886</td>\n",
       "    </tr>\n",
       "    <tr>\n",
       "      <th>5</th>\n",
       "      <td>Frankfurt</td>\n",
       "      <td>650</td>\n",
       "      <td>Germany</td>\n",
       "      <td>True</td>\n",
       "      <td>2019</td>\n",
       "      <td>794</td>\n",
       "    </tr>\n",
       "    <tr>\n",
       "      <th>6</th>\n",
       "      <td>Lisbon</td>\n",
       "      <td>504</td>\n",
       "      <td>Portugal</td>\n",
       "      <td>True</td>\n",
       "      <td>2019</td>\n",
       "      <td>-1200</td>\n",
       "    </tr>\n",
       "    <tr>\n",
       "      <th>7</th>\n",
       "      <td>Porto</td>\n",
       "      <td>249</td>\n",
       "      <td>Portugal</td>\n",
       "      <td>True</td>\n",
       "      <td>2019</td>\n",
       "      <td>-275</td>\n",
       "    </tr>\n",
       "  </tbody>\n",
       "</table>\n",
       "</div>"
      ],
      "text/plain": [
       "            city  population   country   euro  year  founded\n",
       "0    San Antonio        1493       USA  False  2019     1718\n",
       "1          Kyoto        1475     Japan  False  2019      794\n",
       "2         Munich        1260   Germany   True  2019     1158\n",
       "3  San Francisco         885       USA  False  2019     1776\n",
       "4      Vancouver         675    Canada  False  2019     1886\n",
       "5      Frankfurt         650   Germany   True  2019      794\n",
       "6         Lisbon         504  Portugal   True  2019    -1200\n",
       "7          Porto         249  Portugal   True  2019     -275"
      ]
     },
     "execution_count": 68,
     "metadata": {},
     "output_type": "execute_result"
    }
   ],
   "source": [
    "# Adding a column of distinct values\n",
    "city_df['founded'] = [1718, 794, 1158, 1776, 1886, 794, -1200, -275]\n",
    "city_df"
   ]
  },
  {
   "cell_type": "markdown",
   "metadata": {},
   "source": [
    "## adding a row\n",
    "The `.append()` method is used to add rows to the end of a DataFrame. Any columns in the new row that do not appear in the target DataFrame will appear as new columns."
   ]
  },
  {
   "cell_type": "code",
   "execution_count": 69,
   "metadata": {},
   "outputs": [],
   "source": [
    "new_df = pd.DataFrame([{'city': 'London', 'population': 8797, \n",
    "                        'density (per sq km)': 4542,\n",
    "                        'country': 'UK', 'euro': False, 'year':2019}])"
   ]
  },
  {
   "cell_type": "code",
   "execution_count": 70,
   "metadata": {},
   "outputs": [
    {
     "data": {
      "text/html": [
       "<div>\n",
       "<style scoped>\n",
       "    .dataframe tbody tr th:only-of-type {\n",
       "        vertical-align: middle;\n",
       "    }\n",
       "\n",
       "    .dataframe tbody tr th {\n",
       "        vertical-align: top;\n",
       "    }\n",
       "\n",
       "    .dataframe thead th {\n",
       "        text-align: right;\n",
       "    }\n",
       "</style>\n",
       "<table border=\"1\" class=\"dataframe\">\n",
       "  <thead>\n",
       "    <tr style=\"text-align: right;\">\n",
       "      <th></th>\n",
       "      <th>city</th>\n",
       "      <th>population</th>\n",
       "      <th>country</th>\n",
       "      <th>euro</th>\n",
       "      <th>year</th>\n",
       "      <th>founded</th>\n",
       "      <th>density (per sq km)</th>\n",
       "    </tr>\n",
       "  </thead>\n",
       "  <tbody>\n",
       "    <tr>\n",
       "      <th>0</th>\n",
       "      <td>San Antonio</td>\n",
       "      <td>1493</td>\n",
       "      <td>USA</td>\n",
       "      <td>False</td>\n",
       "      <td>2019</td>\n",
       "      <td>1718.0</td>\n",
       "      <td>NaN</td>\n",
       "    </tr>\n",
       "    <tr>\n",
       "      <th>1</th>\n",
       "      <td>Kyoto</td>\n",
       "      <td>1475</td>\n",
       "      <td>Japan</td>\n",
       "      <td>False</td>\n",
       "      <td>2019</td>\n",
       "      <td>794.0</td>\n",
       "      <td>NaN</td>\n",
       "    </tr>\n",
       "    <tr>\n",
       "      <th>2</th>\n",
       "      <td>Munich</td>\n",
       "      <td>1260</td>\n",
       "      <td>Germany</td>\n",
       "      <td>True</td>\n",
       "      <td>2019</td>\n",
       "      <td>1158.0</td>\n",
       "      <td>NaN</td>\n",
       "    </tr>\n",
       "    <tr>\n",
       "      <th>3</th>\n",
       "      <td>San Francisco</td>\n",
       "      <td>885</td>\n",
       "      <td>USA</td>\n",
       "      <td>False</td>\n",
       "      <td>2019</td>\n",
       "      <td>1776.0</td>\n",
       "      <td>NaN</td>\n",
       "    </tr>\n",
       "    <tr>\n",
       "      <th>4</th>\n",
       "      <td>Vancouver</td>\n",
       "      <td>675</td>\n",
       "      <td>Canada</td>\n",
       "      <td>False</td>\n",
       "      <td>2019</td>\n",
       "      <td>1886.0</td>\n",
       "      <td>NaN</td>\n",
       "    </tr>\n",
       "    <tr>\n",
       "      <th>5</th>\n",
       "      <td>Frankfurt</td>\n",
       "      <td>650</td>\n",
       "      <td>Germany</td>\n",
       "      <td>True</td>\n",
       "      <td>2019</td>\n",
       "      <td>794.0</td>\n",
       "      <td>NaN</td>\n",
       "    </tr>\n",
       "    <tr>\n",
       "      <th>6</th>\n",
       "      <td>Lisbon</td>\n",
       "      <td>504</td>\n",
       "      <td>Portugal</td>\n",
       "      <td>True</td>\n",
       "      <td>2019</td>\n",
       "      <td>-1200.0</td>\n",
       "      <td>NaN</td>\n",
       "    </tr>\n",
       "    <tr>\n",
       "      <th>7</th>\n",
       "      <td>Porto</td>\n",
       "      <td>249</td>\n",
       "      <td>Portugal</td>\n",
       "      <td>True</td>\n",
       "      <td>2019</td>\n",
       "      <td>-275.0</td>\n",
       "      <td>NaN</td>\n",
       "    </tr>\n",
       "    <tr>\n",
       "      <th>0</th>\n",
       "      <td>London</td>\n",
       "      <td>8797</td>\n",
       "      <td>UK</td>\n",
       "      <td>False</td>\n",
       "      <td>2019</td>\n",
       "      <td>NaN</td>\n",
       "      <td>4542.0</td>\n",
       "    </tr>\n",
       "  </tbody>\n",
       "</table>\n",
       "</div>"
      ],
      "text/plain": [
       "            city  population   country   euro  year  founded  \\\n",
       "0    San Antonio        1493       USA  False  2019   1718.0   \n",
       "1          Kyoto        1475     Japan  False  2019    794.0   \n",
       "2         Munich        1260   Germany   True  2019   1158.0   \n",
       "3  San Francisco         885       USA  False  2019   1776.0   \n",
       "4      Vancouver         675    Canada  False  2019   1886.0   \n",
       "5      Frankfurt         650   Germany   True  2019    794.0   \n",
       "6         Lisbon         504  Portugal   True  2019  -1200.0   \n",
       "7          Porto         249  Portugal   True  2019   -275.0   \n",
       "0         London        8797        UK  False  2019      NaN   \n",
       "\n",
       "   density (per sq km)  \n",
       "0                  NaN  \n",
       "1                  NaN  \n",
       "2                  NaN  \n",
       "3                  NaN  \n",
       "4                  NaN  \n",
       "5                  NaN  \n",
       "6                  NaN  \n",
       "7                  NaN  \n",
       "0               4542.0  "
      ]
     },
     "execution_count": 70,
     "metadata": {},
     "output_type": "execute_result"
    }
   ],
   "source": [
    "# add new city\n",
    "#  sort = False prohibts sorting columns \n",
    "#  by alphabetical order\n",
    "city_df.append(new_df, sort=False) #出来london的index为0！！！！！"
   ]
  },
  {
   "cell_type": "code",
   "execution_count": 71,
   "metadata": {},
   "outputs": [
    {
     "data": {
      "text/html": [
       "<div>\n",
       "<style scoped>\n",
       "    .dataframe tbody tr th:only-of-type {\n",
       "        vertical-align: middle;\n",
       "    }\n",
       "\n",
       "    .dataframe tbody tr th {\n",
       "        vertical-align: top;\n",
       "    }\n",
       "\n",
       "    .dataframe thead th {\n",
       "        text-align: right;\n",
       "    }\n",
       "</style>\n",
       "<table border=\"1\" class=\"dataframe\">\n",
       "  <thead>\n",
       "    <tr style=\"text-align: right;\">\n",
       "      <th></th>\n",
       "      <th>city</th>\n",
       "      <th>population</th>\n",
       "      <th>country</th>\n",
       "      <th>euro</th>\n",
       "      <th>year</th>\n",
       "      <th>founded</th>\n",
       "      <th>density (per sq km)</th>\n",
       "    </tr>\n",
       "  </thead>\n",
       "  <tbody>\n",
       "    <tr>\n",
       "      <th>0</th>\n",
       "      <td>San Antonio</td>\n",
       "      <td>1493</td>\n",
       "      <td>USA</td>\n",
       "      <td>False</td>\n",
       "      <td>2019</td>\n",
       "      <td>1718.0</td>\n",
       "      <td>NaN</td>\n",
       "    </tr>\n",
       "    <tr>\n",
       "      <th>1</th>\n",
       "      <td>Kyoto</td>\n",
       "      <td>1475</td>\n",
       "      <td>Japan</td>\n",
       "      <td>False</td>\n",
       "      <td>2019</td>\n",
       "      <td>794.0</td>\n",
       "      <td>NaN</td>\n",
       "    </tr>\n",
       "    <tr>\n",
       "      <th>2</th>\n",
       "      <td>Munich</td>\n",
       "      <td>1260</td>\n",
       "      <td>Germany</td>\n",
       "      <td>True</td>\n",
       "      <td>2019</td>\n",
       "      <td>1158.0</td>\n",
       "      <td>NaN</td>\n",
       "    </tr>\n",
       "    <tr>\n",
       "      <th>3</th>\n",
       "      <td>San Francisco</td>\n",
       "      <td>885</td>\n",
       "      <td>USA</td>\n",
       "      <td>False</td>\n",
       "      <td>2019</td>\n",
       "      <td>1776.0</td>\n",
       "      <td>NaN</td>\n",
       "    </tr>\n",
       "    <tr>\n",
       "      <th>4</th>\n",
       "      <td>Vancouver</td>\n",
       "      <td>675</td>\n",
       "      <td>Canada</td>\n",
       "      <td>False</td>\n",
       "      <td>2019</td>\n",
       "      <td>1886.0</td>\n",
       "      <td>NaN</td>\n",
       "    </tr>\n",
       "    <tr>\n",
       "      <th>5</th>\n",
       "      <td>Frankfurt</td>\n",
       "      <td>650</td>\n",
       "      <td>Germany</td>\n",
       "      <td>True</td>\n",
       "      <td>2019</td>\n",
       "      <td>794.0</td>\n",
       "      <td>NaN</td>\n",
       "    </tr>\n",
       "    <tr>\n",
       "      <th>6</th>\n",
       "      <td>Lisbon</td>\n",
       "      <td>504</td>\n",
       "      <td>Portugal</td>\n",
       "      <td>True</td>\n",
       "      <td>2019</td>\n",
       "      <td>-1200.0</td>\n",
       "      <td>NaN</td>\n",
       "    </tr>\n",
       "    <tr>\n",
       "      <th>7</th>\n",
       "      <td>Porto</td>\n",
       "      <td>249</td>\n",
       "      <td>Portugal</td>\n",
       "      <td>True</td>\n",
       "      <td>2019</td>\n",
       "      <td>-275.0</td>\n",
       "      <td>NaN</td>\n",
       "    </tr>\n",
       "    <tr>\n",
       "      <th>8</th>\n",
       "      <td>London</td>\n",
       "      <td>8797</td>\n",
       "      <td>UK</td>\n",
       "      <td>False</td>\n",
       "      <td>2019</td>\n",
       "      <td>NaN</td>\n",
       "      <td>4542.0</td>\n",
       "    </tr>\n",
       "  </tbody>\n",
       "</table>\n",
       "</div>"
      ],
      "text/plain": [
       "            city  population   country   euro  year  founded  \\\n",
       "0    San Antonio        1493       USA  False  2019   1718.0   \n",
       "1          Kyoto        1475     Japan  False  2019    794.0   \n",
       "2         Munich        1260   Germany   True  2019   1158.0   \n",
       "3  San Francisco         885       USA  False  2019   1776.0   \n",
       "4      Vancouver         675    Canada  False  2019   1886.0   \n",
       "5      Frankfurt         650   Germany   True  2019    794.0   \n",
       "6         Lisbon         504  Portugal   True  2019  -1200.0   \n",
       "7          Porto         249  Portugal   True  2019   -275.0   \n",
       "8         London        8797        UK  False  2019      NaN   \n",
       "\n",
       "   density (per sq km)  \n",
       "0                  NaN  \n",
       "1                  NaN  \n",
       "2                  NaN  \n",
       "3                  NaN  \n",
       "4                  NaN  \n",
       "5                  NaN  \n",
       "6                  NaN  \n",
       "7                  NaN  \n",
       "8               4542.0  "
      ]
     },
     "execution_count": 71,
     "metadata": {},
     "output_type": "execute_result"
    }
   ],
   "source": [
    "# fix row index\n",
    "city_df.append(new_df, sort=False, ignore_index=True)"
   ]
  },
  {
   "cell_type": "code",
   "execution_count": 76,
   "metadata": {},
   "outputs": [],
   "source": [
    "# update city_df to include London\n",
    "city_df = city_df.append(new_df, sort=False, ignore_index=True)"
   ]
  },
  {
   "cell_type": "markdown",
   "metadata": {},
   "source": [
    "## removing columns or rows\n",
    "Columns can be removed by `del` or by the `.drop()` method.  Note that the `axis=1` argument is needed to specify column indices, and `axis = 0` is necessary to specify row indices. "
   ]
  },
  {
   "cell_type": "code",
   "execution_count": 77,
   "metadata": {},
   "outputs": [
    {
     "data": {
      "text/html": [
       "<div>\n",
       "<style scoped>\n",
       "    .dataframe tbody tr th:only-of-type {\n",
       "        vertical-align: middle;\n",
       "    }\n",
       "\n",
       "    .dataframe tbody tr th {\n",
       "        vertical-align: top;\n",
       "    }\n",
       "\n",
       "    .dataframe thead th {\n",
       "        text-align: right;\n",
       "    }\n",
       "</style>\n",
       "<table border=\"1\" class=\"dataframe\">\n",
       "  <thead>\n",
       "    <tr style=\"text-align: right;\">\n",
       "      <th></th>\n",
       "      <th>city</th>\n",
       "      <th>population</th>\n",
       "      <th>country</th>\n",
       "      <th>euro</th>\n",
       "      <th>founded</th>\n",
       "      <th>density (per sq km)</th>\n",
       "    </tr>\n",
       "  </thead>\n",
       "  <tbody>\n",
       "    <tr>\n",
       "      <th>0</th>\n",
       "      <td>San Antonio</td>\n",
       "      <td>1493</td>\n",
       "      <td>USA</td>\n",
       "      <td>False</td>\n",
       "      <td>1718.0</td>\n",
       "      <td>NaN</td>\n",
       "    </tr>\n",
       "    <tr>\n",
       "      <th>1</th>\n",
       "      <td>Kyoto</td>\n",
       "      <td>1475</td>\n",
       "      <td>Japan</td>\n",
       "      <td>False</td>\n",
       "      <td>794.0</td>\n",
       "      <td>NaN</td>\n",
       "    </tr>\n",
       "    <tr>\n",
       "      <th>2</th>\n",
       "      <td>Munich</td>\n",
       "      <td>1260</td>\n",
       "      <td>Germany</td>\n",
       "      <td>True</td>\n",
       "      <td>1158.0</td>\n",
       "      <td>NaN</td>\n",
       "    </tr>\n",
       "    <tr>\n",
       "      <th>3</th>\n",
       "      <td>San Francisco</td>\n",
       "      <td>885</td>\n",
       "      <td>USA</td>\n",
       "      <td>False</td>\n",
       "      <td>1776.0</td>\n",
       "      <td>NaN</td>\n",
       "    </tr>\n",
       "    <tr>\n",
       "      <th>4</th>\n",
       "      <td>Vancouver</td>\n",
       "      <td>675</td>\n",
       "      <td>Canada</td>\n",
       "      <td>False</td>\n",
       "      <td>1886.0</td>\n",
       "      <td>NaN</td>\n",
       "    </tr>\n",
       "    <tr>\n",
       "      <th>5</th>\n",
       "      <td>Frankfurt</td>\n",
       "      <td>650</td>\n",
       "      <td>Germany</td>\n",
       "      <td>True</td>\n",
       "      <td>794.0</td>\n",
       "      <td>NaN</td>\n",
       "    </tr>\n",
       "    <tr>\n",
       "      <th>6</th>\n",
       "      <td>Lisbon</td>\n",
       "      <td>504</td>\n",
       "      <td>Portugal</td>\n",
       "      <td>True</td>\n",
       "      <td>-1200.0</td>\n",
       "      <td>NaN</td>\n",
       "    </tr>\n",
       "    <tr>\n",
       "      <th>7</th>\n",
       "      <td>Porto</td>\n",
       "      <td>249</td>\n",
       "      <td>Portugal</td>\n",
       "      <td>True</td>\n",
       "      <td>-275.0</td>\n",
       "      <td>NaN</td>\n",
       "    </tr>\n",
       "    <tr>\n",
       "      <th>8</th>\n",
       "      <td>London</td>\n",
       "      <td>8797</td>\n",
       "      <td>UK</td>\n",
       "      <td>False</td>\n",
       "      <td>NaN</td>\n",
       "      <td>4542.0</td>\n",
       "    </tr>\n",
       "  </tbody>\n",
       "</table>\n",
       "</div>"
      ],
      "text/plain": [
       "            city  population   country   euro  founded  density (per sq km)\n",
       "0    San Antonio        1493       USA  False   1718.0                  NaN\n",
       "1          Kyoto        1475     Japan  False    794.0                  NaN\n",
       "2         Munich        1260   Germany   True   1158.0                  NaN\n",
       "3  San Francisco         885       USA  False   1776.0                  NaN\n",
       "4      Vancouver         675    Canada  False   1886.0                  NaN\n",
       "5      Frankfurt         650   Germany   True    794.0                  NaN\n",
       "6         Lisbon         504  Portugal   True  -1200.0                  NaN\n",
       "7          Porto         249  Portugal   True   -275.0                  NaN\n",
       "8         London        8797        UK  False      NaN               4542.0"
      ]
     },
     "execution_count": 77,
     "metadata": {},
     "output_type": "execute_result"
    }
   ],
   "source": [
    "#drop 'year' column \n",
    "#  axis = 1 for column\n",
    "#  axis = 0 for row\n",
    "city_df = city_df.drop(['year'], axis = 1)\n",
    "city_df"
   ]
  },
  {
   "cell_type": "code",
   "execution_count": 78,
   "metadata": {},
   "outputs": [
    {
     "data": {
      "text/html": [
       "<div>\n",
       "<style scoped>\n",
       "    .dataframe tbody tr th:only-of-type {\n",
       "        vertical-align: middle;\n",
       "    }\n",
       "\n",
       "    .dataframe tbody tr th {\n",
       "        vertical-align: top;\n",
       "    }\n",
       "\n",
       "    .dataframe thead th {\n",
       "        text-align: right;\n",
       "    }\n",
       "</style>\n",
       "<table border=\"1\" class=\"dataframe\">\n",
       "  <thead>\n",
       "    <tr style=\"text-align: right;\">\n",
       "      <th></th>\n",
       "      <th>city</th>\n",
       "      <th>population</th>\n",
       "      <th>country</th>\n",
       "      <th>euro</th>\n",
       "      <th>founded</th>\n",
       "      <th>density (per sq km)</th>\n",
       "    </tr>\n",
       "  </thead>\n",
       "  <tbody>\n",
       "    <tr>\n",
       "      <th>0</th>\n",
       "      <td>San Antonio</td>\n",
       "      <td>1493</td>\n",
       "      <td>USA</td>\n",
       "      <td>False</td>\n",
       "      <td>1718.0</td>\n",
       "      <td>NaN</td>\n",
       "    </tr>\n",
       "    <tr>\n",
       "      <th>1</th>\n",
       "      <td>Kyoto</td>\n",
       "      <td>1475</td>\n",
       "      <td>Japan</td>\n",
       "      <td>False</td>\n",
       "      <td>794.0</td>\n",
       "      <td>NaN</td>\n",
       "    </tr>\n",
       "    <tr>\n",
       "      <th>2</th>\n",
       "      <td>Munich</td>\n",
       "      <td>1260</td>\n",
       "      <td>Germany</td>\n",
       "      <td>True</td>\n",
       "      <td>1158.0</td>\n",
       "      <td>NaN</td>\n",
       "    </tr>\n",
       "    <tr>\n",
       "      <th>3</th>\n",
       "      <td>San Francisco</td>\n",
       "      <td>885</td>\n",
       "      <td>USA</td>\n",
       "      <td>False</td>\n",
       "      <td>1776.0</td>\n",
       "      <td>NaN</td>\n",
       "    </tr>\n",
       "    <tr>\n",
       "      <th>4</th>\n",
       "      <td>Vancouver</td>\n",
       "      <td>675</td>\n",
       "      <td>Canada</td>\n",
       "      <td>False</td>\n",
       "      <td>1886.0</td>\n",
       "      <td>NaN</td>\n",
       "    </tr>\n",
       "    <tr>\n",
       "      <th>5</th>\n",
       "      <td>Frankfurt</td>\n",
       "      <td>650</td>\n",
       "      <td>Germany</td>\n",
       "      <td>True</td>\n",
       "      <td>794.0</td>\n",
       "      <td>NaN</td>\n",
       "    </tr>\n",
       "    <tr>\n",
       "      <th>6</th>\n",
       "      <td>Lisbon</td>\n",
       "      <td>504</td>\n",
       "      <td>Portugal</td>\n",
       "      <td>True</td>\n",
       "      <td>-1200.0</td>\n",
       "      <td>NaN</td>\n",
       "    </tr>\n",
       "    <tr>\n",
       "      <th>7</th>\n",
       "      <td>Porto</td>\n",
       "      <td>249</td>\n",
       "      <td>Portugal</td>\n",
       "      <td>True</td>\n",
       "      <td>-275.0</td>\n",
       "      <td>NaN</td>\n",
       "    </tr>\n",
       "  </tbody>\n",
       "</table>\n",
       "</div>"
      ],
      "text/plain": [
       "            city  population   country   euro  founded  density (per sq km)\n",
       "0    San Antonio        1493       USA  False   1718.0                  NaN\n",
       "1          Kyoto        1475     Japan  False    794.0                  NaN\n",
       "2         Munich        1260   Germany   True   1158.0                  NaN\n",
       "3  San Francisco         885       USA  False   1776.0                  NaN\n",
       "4      Vancouver         675    Canada  False   1886.0                  NaN\n",
       "5      Frankfurt         650   Germany   True    794.0                  NaN\n",
       "6         Lisbon         504  Portugal   True  -1200.0                  NaN\n",
       "7          Porto         249  Portugal   True   -275.0                  NaN"
      ]
     },
     "execution_count": 78,
     "metadata": {},
     "output_type": "execute_result"
    }
   ],
   "source": [
    "# drop row by index\n",
    "city_df = city_df.drop([8], axis=0)\n",
    "city_df"
   ]
  },
  {
   "cell_type": "markdown",
   "metadata": {},
   "source": [
    "##  Drop NaNs\n",
    "A very useful method is [.dropna()](https://pandas.pydata.org/pandas-docs/stable/reference/api/pandas.DataFrame.dropna.html), which allows you to remove missing values.  The default is to remove any (`how = 'any`) row (`index = 0`) in which a `NaN` value appears.\n",
    "\n",
    "Compare two applications of `dropna()`"
   ]
  },
  {
   "cell_type": "code",
   "execution_count": 79,
   "metadata": {},
   "outputs": [
    {
     "data": {
      "text/html": [
       "<div>\n",
       "<style scoped>\n",
       "    .dataframe tbody tr th:only-of-type {\n",
       "        vertical-align: middle;\n",
       "    }\n",
       "\n",
       "    .dataframe tbody tr th {\n",
       "        vertical-align: top;\n",
       "    }\n",
       "\n",
       "    .dataframe thead th {\n",
       "        text-align: right;\n",
       "    }\n",
       "</style>\n",
       "<table border=\"1\" class=\"dataframe\">\n",
       "  <thead>\n",
       "    <tr style=\"text-align: right;\">\n",
       "      <th></th>\n",
       "      <th>city</th>\n",
       "      <th>population</th>\n",
       "      <th>country</th>\n",
       "      <th>euro</th>\n",
       "      <th>founded</th>\n",
       "      <th>density (per sq km)</th>\n",
       "    </tr>\n",
       "  </thead>\n",
       "  <tbody>\n",
       "  </tbody>\n",
       "</table>\n",
       "</div>"
      ],
      "text/plain": [
       "Empty DataFrame\n",
       "Columns: [city, population, country, euro, founded, density (per sq km)]\n",
       "Index: []"
      ]
     },
     "execution_count": 79,
     "metadata": {},
     "output_type": "execute_result"
    }
   ],
   "source": [
    "# default is axis = 0\n",
    "city_df.dropna()"
   ]
  },
  {
   "cell_type": "code",
   "execution_count": 80,
   "metadata": {},
   "outputs": [
    {
     "data": {
      "text/html": [
       "<div>\n",
       "<style scoped>\n",
       "    .dataframe tbody tr th:only-of-type {\n",
       "        vertical-align: middle;\n",
       "    }\n",
       "\n",
       "    .dataframe tbody tr th {\n",
       "        vertical-align: top;\n",
       "    }\n",
       "\n",
       "    .dataframe thead th {\n",
       "        text-align: right;\n",
       "    }\n",
       "</style>\n",
       "<table border=\"1\" class=\"dataframe\">\n",
       "  <thead>\n",
       "    <tr style=\"text-align: right;\">\n",
       "      <th></th>\n",
       "      <th>city</th>\n",
       "      <th>population</th>\n",
       "      <th>country</th>\n",
       "      <th>euro</th>\n",
       "      <th>founded</th>\n",
       "    </tr>\n",
       "  </thead>\n",
       "  <tbody>\n",
       "    <tr>\n",
       "      <th>0</th>\n",
       "      <td>San Antonio</td>\n",
       "      <td>1493</td>\n",
       "      <td>USA</td>\n",
       "      <td>False</td>\n",
       "      <td>1718.0</td>\n",
       "    </tr>\n",
       "    <tr>\n",
       "      <th>1</th>\n",
       "      <td>Kyoto</td>\n",
       "      <td>1475</td>\n",
       "      <td>Japan</td>\n",
       "      <td>False</td>\n",
       "      <td>794.0</td>\n",
       "    </tr>\n",
       "    <tr>\n",
       "      <th>2</th>\n",
       "      <td>Munich</td>\n",
       "      <td>1260</td>\n",
       "      <td>Germany</td>\n",
       "      <td>True</td>\n",
       "      <td>1158.0</td>\n",
       "    </tr>\n",
       "    <tr>\n",
       "      <th>3</th>\n",
       "      <td>San Francisco</td>\n",
       "      <td>885</td>\n",
       "      <td>USA</td>\n",
       "      <td>False</td>\n",
       "      <td>1776.0</td>\n",
       "    </tr>\n",
       "    <tr>\n",
       "      <th>4</th>\n",
       "      <td>Vancouver</td>\n",
       "      <td>675</td>\n",
       "      <td>Canada</td>\n",
       "      <td>False</td>\n",
       "      <td>1886.0</td>\n",
       "    </tr>\n",
       "    <tr>\n",
       "      <th>5</th>\n",
       "      <td>Frankfurt</td>\n",
       "      <td>650</td>\n",
       "      <td>Germany</td>\n",
       "      <td>True</td>\n",
       "      <td>794.0</td>\n",
       "    </tr>\n",
       "    <tr>\n",
       "      <th>6</th>\n",
       "      <td>Lisbon</td>\n",
       "      <td>504</td>\n",
       "      <td>Portugal</td>\n",
       "      <td>True</td>\n",
       "      <td>-1200.0</td>\n",
       "    </tr>\n",
       "    <tr>\n",
       "      <th>7</th>\n",
       "      <td>Porto</td>\n",
       "      <td>249</td>\n",
       "      <td>Portugal</td>\n",
       "      <td>True</td>\n",
       "      <td>-275.0</td>\n",
       "    </tr>\n",
       "  </tbody>\n",
       "</table>\n",
       "</div>"
      ],
      "text/plain": [
       "            city  population   country   euro  founded\n",
       "0    San Antonio        1493       USA  False   1718.0\n",
       "1          Kyoto        1475     Japan  False    794.0\n",
       "2         Munich        1260   Germany   True   1158.0\n",
       "3  San Francisco         885       USA  False   1776.0\n",
       "4      Vancouver         675    Canada  False   1886.0\n",
       "5      Frankfurt         650   Germany   True    794.0\n",
       "6         Lisbon         504  Portugal   True  -1200.0\n",
       "7          Porto         249  Portugal   True   -275.0"
      ]
     },
     "execution_count": 80,
     "metadata": {},
     "output_type": "execute_result"
    }
   ],
   "source": [
    "# axis = 1\n",
    "city_df.dropna(axis=1)"
   ]
  }
 ],
 "metadata": {
  "kernelspec": {
   "display_name": "Python 3",
   "language": "python",
   "name": "python3"
  },
  "language_info": {
   "codemirror_mode": {
    "name": "ipython",
    "version": 3
   },
   "file_extension": ".py",
   "mimetype": "text/x-python",
   "name": "python",
   "nbconvert_exporter": "python",
   "pygments_lexer": "ipython3",
   "version": "3.6.12"
  }
 },
 "nbformat": 4,
 "nbformat_minor": 2
}