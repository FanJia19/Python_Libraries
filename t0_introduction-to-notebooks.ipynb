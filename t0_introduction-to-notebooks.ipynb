{
 "cells": [
  {
   "cell_type": "markdown",
   "metadata": {
    "deletable": false,
    "editable": false,
    "nbgrader": {
     "cell_type": "markdown",
     "checksum": "1dab364d81e8eeefa16911ce24c6e14d",
     "grade": false,
     "grade_id": "cell-2db4a65845b12d16",
     "locked": true,
     "schema_version": 3,
     "solution": false,
     "task": false
    }
   },
   "source": [
    "<img src=\"images/logo-2020.png\" alt=\"frankfurt school hmi\" style=\"width: 160px;\"/>"
   ]
  },
  {
   "cell_type": "markdown",
   "metadata": {},
   "source": [
    "# 10 Minute Introduction to Jupyter IPython Notebooks\n",
    "This introduction is adapted from https://github.com/compmodels/problem-sets\n",
    "\n",
    "In this class, you will be using Jupyter IPython notebook to write code and answer questions posed in each assignment. There are 5 problem sets, named ps1, ps2, et cetera. Each problem set contains at least one notebook and sometimes more than one. According to the naming convention used in this course, `ps3_nb2` refers to the second notebook of problem set 3.\n",
    "\n",
    "There will also be ungraded tutorials throughout the course, this being the first.\n",
    "\n",
    "<div class=\"alert alert-info\">\n",
    "    <b>Never rename files</b>: Submitting files with alternative names will impede grading and will result in partial or no credit for an assignment.\n",
    "</div>"
   ]
  },
  {
   "cell_type": "markdown",
   "metadata": {},
   "source": [
    "The notebook consists of a series of *cells*. For example, this text is in what is called a \"Markdown cell\". Markdown cells can interpret basic $\\LaTeX$, for mathematics, and basic HTML. There is also native formatting capabilities, such as [this hyperlink](https://jupyter-notebook.readthedocs.io/en/stable/ui_components.html) to the documentation on the user interface. \n",
    "\n",
    "The following cell is a \"code cell\", which allows you to write code with syntax highlighting and tab completion for the programming langauge you are using.  We will only use Python 3 kernels in this course, which is the default for IPython. "
   ]
  },
  {
   "cell_type": "code",
   "execution_count": null,
   "metadata": {},
   "outputs": [],
   "source": [
    "# this is a code cell \n",
    "# executing the input 2+2 yields the output of 4\n",
    "2 + 2"
   ]
  },
  {
   "cell_type": "markdown",
   "metadata": {},
   "source": [
    "You can tell what the type of a cell is by selecting the cell, and looking at the toolbar at the top of the page. \n",
    "\n",
    "If you double click this cell, or any markdown cell, you will see the source code used, which may include $\\LaTeX$ for mathematical formulas like this:\n",
    "\n",
    "$$ \\hat{\\boldsymbol{y}} :=  \\sum_{i=1}^{m} \\theta_i x_i = \\boldsymbol{\\theta}^T \\boldsymbol{x}$$\n",
    "\n",
    "To reset the text, you simply \"run the cell\" like you would to execute a code cell. See <b>command mode</b> and <b>edit mode</b> below. \n",
    "\n",
    "---"
   ]
  },
  {
   "cell_type": "markdown",
   "metadata": {},
   "source": [
    "## Command mode and edit mode\n",
    "\n",
    "In the notebook, there are two modes: *edit mode* and *command mode*. By default the notebook begins in *command mode*. In order to edit a cell, you need to be in *edit mode*.\n",
    "\n",
    "<div class=\"alert alert-info\">\n",
    "<b>When you are in command mode</b>, you can press <b>enter</b> to switch to edit mode. The outline of the cell you currently have selected will turn green, and a cursor will appear.\n",
    "</div>\n",
    "\n",
    "### Markdown cells\n",
    "\n",
    "IPython will only *render* markdown you create when you tell it to. To do this, we need to \"run\" the cell by pressing **`Ctrl-Enter`**.  To edit a rendered markdown cell, double-click on the cell.  Note, however, that in your assignments, most if not all cells will be locked to prevent you from accidentally altering the assignment.\n",
    "\n",
    "### Code cells\n",
    "\n",
    "For code cells, if we were to press **`Ctrl-Enter`** like we did for the markdown cell, this will execute any code in that cell:\n",
    "\n",
    "---\n",
    "\n",
    "## Executing cells\n",
    "Code cells can contain any valid Python code in them. When you run the cell, the code is executed and any output is displayed.\n",
    "\n",
    "<div class=\"alert alert-info\">\n",
    "You can execute cells with <b><code>Ctrl-Enter</code></b> (which will keep the cell selected), or <b><code>Shift-Enter</code></b> (which will select the next cell).\n",
    "</div>\n"
   ]
  },
  {
   "cell_type": "markdown",
   "metadata": {},
   "source": [
    "Try running the following cell and see what it prints out:"
   ]
  },
  {
   "cell_type": "code",
   "execution_count": 1,
   "metadata": {},
   "outputs": [
    {
     "name": "stdout",
     "output_type": "stream",
     "text": [
      "Printing cumulative sum from 1-10:\n",
      "Sum of 1 to 1 is: 1\n",
      "Sum of 1 to 2 is: 3\n",
      "Sum of 1 to 3 is: 6\n",
      "Sum of 1 to 4 is: 10\n",
      "Sum of 1 to 5 is: 15\n",
      "Sum of 1 to 6 is: 21\n",
      "Sum of 1 to 7 is: 28\n",
      "Sum of 1 to 8 is: 36\n",
      "Sum of 1 to 9 is: 45\n",
      "Sum of 1 to 10 is: 55\n",
      "End of printed numbers.\n"
     ]
    }
   ],
   "source": [
    "print(\"Printing cumulative sum from 1-10:\")\n",
    "total = 0\n",
    "for i in range(1, 11):\n",
    "    total += i\n",
    "    print(\"Sum of 1 to \" + str(i) + \" is: \" + str(total))\n",
    "print(\"End of printed numbers.\")"
   ]
  },
  {
   "cell_type": "markdown",
   "metadata": {},
   "source": [
    "You'll notice that the output beneath the cell corresponds to the `print` statements in the code. Here is another example, which only prints out the final sum:"
   ]
  },
  {
   "cell_type": "code",
   "execution_count": 2,
   "metadata": {},
   "outputs": [
    {
     "name": "stdout",
     "output_type": "stream",
     "text": [
      "55\n"
     ]
    }
   ],
   "source": [
    "total = 0\n",
    "for i in range(1, 11):\n",
    "    total += i\n",
    "print(total)"
   ]
  },
  {
   "cell_type": "markdown",
   "metadata": {},
   "source": [
    "Another way to print something out is to have that thing be the last line in the cell. For example, we could rewrite our example above to be:"
   ]
  },
  {
   "cell_type": "code",
   "execution_count": 3,
   "metadata": {},
   "outputs": [
    {
     "data": {
      "text/plain": [
       "55"
      ]
     },
     "execution_count": 3,
     "metadata": {},
     "output_type": "execute_result"
    }
   ],
   "source": [
    "total = 0\n",
    "for i in range(1, 11):\n",
    "    total += i\n",
    "total"
   ]
  },
  {
   "cell_type": "markdown",
   "metadata": {},
   "source": [
    "However, this *will not work* unless the thing to be displayed is on the last line. For example, if we wanted to print the total sum and then a message after that, this will not do what we want: it will only print the message."
   ]
  },
  {
   "cell_type": "code",
   "execution_count": 4,
   "metadata": {},
   "outputs": [
    {
     "name": "stdout",
     "output_type": "stream",
     "text": [
      "Finised computing total.\n"
     ]
    }
   ],
   "source": [
    "total = 0\n",
    "for i in range(1, 11):\n",
    "    total += i\n",
    "total\n",
    "print(\"Finised computing total.\")"
   ]
  },
  {
   "cell_type": "markdown",
   "metadata": {},
   "source": [
    "---\n",
    "\n",
    "## The IPython kernel\n",
    "\n",
    "When you first start a notebook, you are also starting what is called a *kernel*. This is a special program that runs in the background and executes Python code. Whenever you run a code cell, you are telling the kernel to execute the code that is in the cell, and to print the output (if any).\n",
    "\n",
    "Just like if you were typing code at the Python interpreter, you need to make sure your variables are declared before you can use them. What will happen when you run the following cell? Try it and see:\n"
   ]
  },
  {
   "cell_type": "code",
   "execution_count": 6,
   "metadata": {},
   "outputs": [],
   "source": [
    "a = 1"
   ]
  },
  {
   "cell_type": "markdown",
   "metadata": {},
   "source": [
    "The issue is that the variable `a` does not exist. Modify the cell above so that a is declared first. For example, you could set the value of a to 1 by typing:\n",
    "~~~python\n",
    "a = 1\n",
    "~~~\n",
    "Or pick whatever value or data structure you want. But let's stick to numbers. Once you have modified the above cell, you should be able to run the following cell.  \n",
    "\n",
    "<div class=\"alert alert-info\"><b>Tip</b>: If you haven't modified the above cell, you'll get the same error!</div>\n",
    "\n"
   ]
  },
  {
   "cell_type": "code",
   "execution_count": 7,
   "metadata": {},
   "outputs": [
    {
     "name": "stdout",
     "output_type": "stream",
     "text": [
      "The value of 'a' is  1\n"
     ]
    }
   ],
   "source": [
    "print(\"The value of 'a' is \", a)"
   ]
  },
  {
   "cell_type": "markdown",
   "metadata": {},
   "source": [
    "Running the above cell should work, because `a` has now been declared. To see what variables have been declared, you can use the `whos` command:"
   ]
  },
  {
   "cell_type": "code",
   "execution_count": 8,
   "metadata": {},
   "outputs": [
    {
     "name": "stdout",
     "output_type": "stream",
     "text": [
      "Variable   Type    Data/Info\n",
      "----------------------------\n",
      "a          int     1\n",
      "i          int     10\n",
      "total      int     55\n"
     ]
    }
   ],
   "source": [
    "whos"
   ]
  },
  {
   "cell_type": "markdown",
   "metadata": {},
   "source": [
    "If you ran the summing examples from the previous section, you'll notice that `total` and `i` are listed under the `whos` command. That is because when we ran the code for those examples, they also modified the kernel state.\n",
    "\n",
    "\n",
    "### Global variables\n",
    "For those of you with some programmning experience, you will notice that all variable assignments outside of a function are global.  What this means in practice is that you should be careful about reusing variables, as they may have values assigned to them which you've forgotten about. For instance, you might be surprised that the index `i` used in the iterator above remains declared.  Naturally, if you were to write another loop and use `i` as an index, that would work fine, unless you made a mistake that the earlier declaration obscures from you.  If you would like to delete this variable, type `del(i)`.\n",
    "\n",
    "### Restarting the kernel\n",
    "\n",
    "It is generally a good idea to periodically restart the kernel and start fresh, because you may be using some variables that you declared at some point, but at a later point deleted that declaration. \n",
    "\n",
    "<div class=\"alert alert-danger\">\n",
    "Your code should <b>always</b> work if you run every cell sequentially in the notebook starting from the top with a new kernel. </div>\n",
    "\n",
    "To test that your code can run without errors, first restart the kernel from the menu: <b>Kernel >> Restart and Clear Output</b>:\n",
    "\n",
    "<img src=\"images/ps_fig2.png\" alt=\"ps3_fig2\" style=\"width: 250px;\"/> \n",
    "\n",
    "\n",
    "\n",
    "Then, run all cells in the notebook in order by choosing **Cell >> Run All** from the menu above.\n",
    "\n",
    "<div class=\"alert alert-info\">\n",
    "There are many keyboard shortcuts for the notebook. To see a full list of these, go to <b>Help >> Keyboard Shortcuts</b>.\n",
    "</div>\n",
    "\n",
    "<div class=\"alert alert-info\">To learn a little more about what things are what in the IPython Notebook, check out the user interface tour, which you can access by going to <b>Help >> User Interface Tour</b>.</div>\n",
    "\n",
    "### Completing Functions\n",
    "\n",
    "Nearly all assignments will include several partially completed functions, and your task will be to read the instructions and write one or a few lines of code to get the function to perform per specification.  Inside each of these partially completed functions you will see two lines of code:  \n",
    "\n",
    "~~~python\n",
    "\n",
    "# YOUR CODE HERE\n",
    "raise NotImplementedError()\n",
    "~~~\n",
    "\n",
    "You should delete both of these lines and replace the comment `# YOUR CODE HERE` with your line or lines of code.  The second line raises a  \"not implemented error\". It is included automatically solely for your convenience, namely to guard against you accidentally submitting an incomplete assignment.  To pass the final validation step, you must remove each of these errors from your functions.\n",
    "\n",
    "\n",
    "### Tests\n",
    "\n",
    "For many of the coding assignments there are tests provided that your code must pass. These will be in one or more cells after the code you need to write, and they *must* pass for you to get full credit. In the following exercise, there is one test cell after the cell where you should put your answer.\n",
    "\n",
    "Also, be aware that test cells will be included only for *coding* questions -- you're on your own for questions requiring a written response!\n",
    "\n",
    "<div class=\"alert alert-info\">When completing a problem set, it is sometimes useful to supplement the autograder tests with test cases of your own. These additional tests should be removed from your assignment before submission.</div>\n"
   ]
  },
  {
   "cell_type": "markdown",
   "metadata": {},
   "source": [
    "## Submitting Assignments\n",
    "\n",
    "Before preparing your assignment for submission, <u><b>you must delete any cells you add or non-essential code</b></u>, including extra print statements you may have introduced. \n",
    "\n",
    "Before submitting an assignment, there are two verification steps you must pass.\n",
    "\n",
    "### First Verification  \n",
    "\n",
    "When you have completed a notebook assignment, you should do the following steps:\n",
    "  \n",
    "  1. __Restart Kernel__ (Kernel ⟶ Restart and Clear Output)\n",
    "  2. __Run all Cells__ (Cell ⟶ Run All)\n",
    "  3. __Validate__: Press the 'Validate' button\n",
    "  4. __Save File__ (File ⟶ Save and Checkpoint)\n",
    "  5. __Close and Shutdown Kernel__ (File ⟶ Close and Halt)\n",
    "  \n",
    "Only if your notebook does not produce an error, proceed to the second step.\n",
    "\n",
    "### Second Verification \n",
    "\n",
    "The second validation step screens your assignment for suitability to pass to the autograders.  This validation step is found on the assignments tab, and checks the contents of your problem set folder before submission.\n",
    "<img src=\"images/second_validation.png\" alt=\"frankfurt school hmi\" style=\"width: 1000px;\"/>\n",
    "\n",
    "\n",
    "\n",
    "<div class=\"alert alert-danger\">\n",
    "    <b>Do not change directory or file names</b>: Submitting assignments with alternative names will impede grading and will result in partial or no credit for an assignment.\n",
    "</div>\n",
    "\n",
    "### Submission\n",
    "To submit an assignment, you must press the blue <b>submit</b> button on the assignments page.  You are free to submit (verified) assignments as many times as you wish.  However, only the most recent submission is saved and graded, and that time stamp is used as the official time of submission."
   ]
  }
 ],
 "metadata": {
  "kernelspec": {
   "display_name": "Python 3",
   "language": "python",
   "name": "python3"
  },
  "language_info": {
   "codemirror_mode": {
    "name": "ipython",
    "version": 3
   },
   "file_extension": ".py",
   "mimetype": "text/x-python",
   "name": "python",
   "nbconvert_exporter": "python",
   "pygments_lexer": "ipython3",
   "version": "3.6.12"
  }
 },
 "nbformat": 4,
 "nbformat_minor": 2
}